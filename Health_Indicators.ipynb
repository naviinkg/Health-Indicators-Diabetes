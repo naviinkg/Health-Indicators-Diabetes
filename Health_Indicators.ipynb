{
 "cells": [
  {
   "cell_type": "markdown",
   "metadata": {},
   "source": [
    "### Health Indication with three prediction models"
   ]
  },
  {
   "cell_type": "code",
   "execution_count": 1,
   "metadata": {
    "colab": {
     "base_uri": "https://localhost:8080/"
    },
    "id": "gpytqMowEjgR",
    "outputId": "08265e7d-9257-447b-cb45-4e58771e365b"
   },
   "outputs": [
    {
     "name": "stdout",
     "output_type": "stream",
     "text": [
      "Requirement already satisfied: shap in c:\\users\\navee\\anaconda3\\lib\\site-packages (0.46.0)\n",
      "Requirement already satisfied: numpy in c:\\users\\navee\\anaconda3\\lib\\site-packages (from shap) (1.23.3)\n",
      "Requirement already satisfied: scipy in c:\\users\\navee\\anaconda3\\lib\\site-packages (from shap) (1.11.4)\n",
      "Requirement already satisfied: scikit-learn in c:\\users\\navee\\anaconda3\\lib\\site-packages (from shap) (1.2.2)\n",
      "Requirement already satisfied: pandas in c:\\users\\navee\\anaconda3\\lib\\site-packages (from shap) (2.1.4)\n",
      "Requirement already satisfied: tqdm>=4.27.0 in c:\\users\\navee\\anaconda3\\lib\\site-packages (from shap) (4.65.0)\n",
      "Requirement already satisfied: packaging>20.9 in c:\\users\\navee\\anaconda3\\lib\\site-packages (from shap) (23.1)\n",
      "Requirement already satisfied: slicer==0.0.8 in c:\\users\\navee\\anaconda3\\lib\\site-packages (from shap) (0.0.8)\n",
      "Requirement already satisfied: numba in c:\\users\\navee\\anaconda3\\lib\\site-packages (from shap) (0.59.0)\n",
      "Requirement already satisfied: cloudpickle in c:\\users\\navee\\anaconda3\\lib\\site-packages (from shap) (2.2.1)\n",
      "Requirement already satisfied: colorama in c:\\users\\navee\\anaconda3\\lib\\site-packages (from tqdm>=4.27.0->shap) (0.4.6)\n",
      "Requirement already satisfied: llvmlite<0.43,>=0.42.0dev0 in c:\\users\\navee\\anaconda3\\lib\\site-packages (from numba->shap) (0.42.0)\n",
      "Requirement already satisfied: python-dateutil>=2.8.2 in c:\\users\\navee\\anaconda3\\lib\\site-packages (from pandas->shap) (2.8.2)\n",
      "Requirement already satisfied: pytz>=2020.1 in c:\\users\\navee\\anaconda3\\lib\\site-packages (from pandas->shap) (2023.3.post1)\n",
      "Requirement already satisfied: tzdata>=2022.1 in c:\\users\\navee\\anaconda3\\lib\\site-packages (from pandas->shap) (2023.3)\n",
      "Requirement already satisfied: joblib>=1.1.1 in c:\\users\\navee\\anaconda3\\lib\\site-packages (from scikit-learn->shap) (1.2.0)\n",
      "Requirement already satisfied: threadpoolctl>=2.0.0 in c:\\users\\navee\\anaconda3\\lib\\site-packages (from scikit-learn->shap) (2.2.0)\n",
      "Requirement already satisfied: six>=1.5 in c:\\users\\navee\\anaconda3\\lib\\site-packages (from python-dateutil>=2.8.2->pandas->shap) (1.16.0)\n"
     ]
    }
   ],
   "source": [
    "import os\n",
    "os.environ['LANG'] = 'en_US.UTF-8'\n",
    "os.environ['LC_ALL'] = 'en_US.UTF-8'\n",
    "\n",
    "# Now install the necessary packages\n",
    "!pip install shap"
   ]
  },
  {
   "cell_type": "code",
   "execution_count": 2,
   "metadata": {
    "colab": {
     "base_uri": "https://localhost:8080/"
    },
    "id": "HfcR9eDh8MWX",
    "outputId": "a1fdf439-2b8f-4f57-d03f-8a95699e401e"
   },
   "outputs": [],
   "source": [
    "# !git clone https://github.com/rapidsai/rapidsai-csp-utils.git\n",
    "# !python rapidsai-csp-utils/colab/pip-install.py"
   ]
  },
  {
   "cell_type": "code",
   "execution_count": 3,
   "metadata": {
    "colab": {
     "base_uri": "https://localhost:8080/",
     "height": 421
    },
    "id": "r5OwjbA-9eSj",
    "outputId": "15171a70-1ad1-4e18-bcf1-11b5dea3fe42"
   },
   "outputs": [
    {
     "name": "stdout",
     "output_type": "stream",
     "text": [
      "Requirement already satisfied: numpy==1.23.3 in c:\\users\\navee\\anaconda3\\lib\\site-packages (1.23.3)\n"
     ]
    }
   ],
   "source": [
    "!pip install numpy==1.23.3"
   ]
  },
  {
   "cell_type": "code",
   "execution_count": 4,
   "metadata": {
    "colab": {
     "base_uri": "https://localhost:8080/"
    },
    "id": "ayLwSELpW_1-",
    "outputId": "7493a4b6-db27-43e8-9351-51f0fbb4aa58"
   },
   "outputs": [
    {
     "name": "stdout",
     "output_type": "stream",
     "text": [
      "Requirement already satisfied: imblearn in c:\\users\\navee\\anaconda3\\lib\\site-packages (0.0)\n",
      "Requirement already satisfied: imbalanced-learn in c:\\users\\navee\\anaconda3\\lib\\site-packages (from imblearn) (0.11.0)\n",
      "Requirement already satisfied: numpy>=1.17.3 in c:\\users\\navee\\anaconda3\\lib\\site-packages (from imbalanced-learn->imblearn) (1.23.3)\n",
      "Requirement already satisfied: scipy>=1.5.0 in c:\\users\\navee\\anaconda3\\lib\\site-packages (from imbalanced-learn->imblearn) (1.11.4)\n",
      "Requirement already satisfied: scikit-learn>=1.0.2 in c:\\users\\navee\\anaconda3\\lib\\site-packages (from imbalanced-learn->imblearn) (1.2.2)\n",
      "Requirement already satisfied: joblib>=1.1.1 in c:\\users\\navee\\anaconda3\\lib\\site-packages (from imbalanced-learn->imblearn) (1.2.0)\n",
      "Requirement already satisfied: threadpoolctl>=2.0.0 in c:\\users\\navee\\anaconda3\\lib\\site-packages (from imbalanced-learn->imblearn) (2.2.0)\n"
     ]
    }
   ],
   "source": [
    "!pip install imblearn"
   ]
  },
  {
   "cell_type": "code",
   "execution_count": 5,
   "metadata": {
    "id": "D5lYfWzNDnxt"
   },
   "outputs": [],
   "source": [
    "import pandas as pd\n",
    "import matplotlib.pyplot as plt\n",
    "import numpy as np\n",
    "import seaborn as sns\n",
    "from sklearn.ensemble import RandomForestClassifier as rf\n",
    "from sklearn.metrics import classification_report\n",
    "from sklearn.model_selection import train_test_split, GridSearchCV\n",
    "# import cuml"
   ]
  },
  {
   "cell_type": "markdown",
   "metadata": {
    "id": "41vDVgJsIr3Z"
   },
   "source": [
    "\n",
    "By looking at the dataset, I will visualize the relationship between the lifestyle of a person and diabetes. With lifestyle features as Smoker, Physical Activities, Fruits, HealthTracker, Income factors; this dataset is trying to predict if the lifestyle of a person can impact the health of the patient or not. It can help to identify what key lifestyle indicators can influence diabetes in a person and can help healthcare providers to intervene early to prevent the onset of diabetes."
   ]
  },
  {
   "cell_type": "markdown",
   "metadata": {
    "id": "ldwnxZFPbY8O"
   },
   "source": [
    "# Prepare the Data\n",
    "\n"
   ]
  },
  {
   "cell_type": "code",
   "execution_count": 6,
   "metadata": {
    "colab": {
     "base_uri": "https://localhost:8080/",
     "height": 256
    },
    "id": "kew2Lc4lFo7Y",
    "outputId": "85a5bfac-2d54-4fb0-a68f-3835bf81253e"
   },
   "outputs": [
    {
     "data": {
      "text/html": [
       "<div>\n",
       "<style scoped>\n",
       "    .dataframe tbody tr th:only-of-type {\n",
       "        vertical-align: middle;\n",
       "    }\n",
       "\n",
       "    .dataframe tbody tr th {\n",
       "        vertical-align: top;\n",
       "    }\n",
       "\n",
       "    .dataframe thead th {\n",
       "        text-align: right;\n",
       "    }\n",
       "</style>\n",
       "<table border=\"1\" class=\"dataframe\">\n",
       "  <thead>\n",
       "    <tr style=\"text-align: right;\">\n",
       "      <th></th>\n",
       "      <th>Diabetes_012</th>\n",
       "      <th>HighBP</th>\n",
       "      <th>HighChol</th>\n",
       "      <th>CholCheck</th>\n",
       "      <th>BMI</th>\n",
       "      <th>Smoker</th>\n",
       "      <th>Stroke</th>\n",
       "      <th>HeartDiseaseorAttack</th>\n",
       "      <th>PhysActivity</th>\n",
       "      <th>Fruits</th>\n",
       "      <th>...</th>\n",
       "      <th>AnyHealthcare</th>\n",
       "      <th>NoDocbcCost</th>\n",
       "      <th>GenHlth</th>\n",
       "      <th>MentHlth</th>\n",
       "      <th>PhysHlth</th>\n",
       "      <th>DiffWalk</th>\n",
       "      <th>Sex</th>\n",
       "      <th>Age</th>\n",
       "      <th>Education</th>\n",
       "      <th>Income</th>\n",
       "    </tr>\n",
       "  </thead>\n",
       "  <tbody>\n",
       "    <tr>\n",
       "      <th>0</th>\n",
       "      <td>0.0</td>\n",
       "      <td>1.0</td>\n",
       "      <td>1.0</td>\n",
       "      <td>1.0</td>\n",
       "      <td>40.0</td>\n",
       "      <td>1.0</td>\n",
       "      <td>0.0</td>\n",
       "      <td>0.0</td>\n",
       "      <td>0.0</td>\n",
       "      <td>0.0</td>\n",
       "      <td>...</td>\n",
       "      <td>1.0</td>\n",
       "      <td>0.0</td>\n",
       "      <td>5.0</td>\n",
       "      <td>18.0</td>\n",
       "      <td>15.0</td>\n",
       "      <td>1.0</td>\n",
       "      <td>0.0</td>\n",
       "      <td>9.0</td>\n",
       "      <td>4.0</td>\n",
       "      <td>3.0</td>\n",
       "    </tr>\n",
       "    <tr>\n",
       "      <th>1</th>\n",
       "      <td>0.0</td>\n",
       "      <td>0.0</td>\n",
       "      <td>0.0</td>\n",
       "      <td>0.0</td>\n",
       "      <td>25.0</td>\n",
       "      <td>1.0</td>\n",
       "      <td>0.0</td>\n",
       "      <td>0.0</td>\n",
       "      <td>1.0</td>\n",
       "      <td>0.0</td>\n",
       "      <td>...</td>\n",
       "      <td>0.0</td>\n",
       "      <td>1.0</td>\n",
       "      <td>3.0</td>\n",
       "      <td>0.0</td>\n",
       "      <td>0.0</td>\n",
       "      <td>0.0</td>\n",
       "      <td>0.0</td>\n",
       "      <td>7.0</td>\n",
       "      <td>6.0</td>\n",
       "      <td>1.0</td>\n",
       "    </tr>\n",
       "    <tr>\n",
       "      <th>2</th>\n",
       "      <td>0.0</td>\n",
       "      <td>1.0</td>\n",
       "      <td>1.0</td>\n",
       "      <td>1.0</td>\n",
       "      <td>28.0</td>\n",
       "      <td>0.0</td>\n",
       "      <td>0.0</td>\n",
       "      <td>0.0</td>\n",
       "      <td>0.0</td>\n",
       "      <td>1.0</td>\n",
       "      <td>...</td>\n",
       "      <td>1.0</td>\n",
       "      <td>1.0</td>\n",
       "      <td>5.0</td>\n",
       "      <td>30.0</td>\n",
       "      <td>30.0</td>\n",
       "      <td>1.0</td>\n",
       "      <td>0.0</td>\n",
       "      <td>9.0</td>\n",
       "      <td>4.0</td>\n",
       "      <td>8.0</td>\n",
       "    </tr>\n",
       "    <tr>\n",
       "      <th>3</th>\n",
       "      <td>0.0</td>\n",
       "      <td>1.0</td>\n",
       "      <td>0.0</td>\n",
       "      <td>1.0</td>\n",
       "      <td>27.0</td>\n",
       "      <td>0.0</td>\n",
       "      <td>0.0</td>\n",
       "      <td>0.0</td>\n",
       "      <td>1.0</td>\n",
       "      <td>1.0</td>\n",
       "      <td>...</td>\n",
       "      <td>1.0</td>\n",
       "      <td>0.0</td>\n",
       "      <td>2.0</td>\n",
       "      <td>0.0</td>\n",
       "      <td>0.0</td>\n",
       "      <td>0.0</td>\n",
       "      <td>0.0</td>\n",
       "      <td>11.0</td>\n",
       "      <td>3.0</td>\n",
       "      <td>6.0</td>\n",
       "    </tr>\n",
       "    <tr>\n",
       "      <th>4</th>\n",
       "      <td>0.0</td>\n",
       "      <td>1.0</td>\n",
       "      <td>1.0</td>\n",
       "      <td>1.0</td>\n",
       "      <td>24.0</td>\n",
       "      <td>0.0</td>\n",
       "      <td>0.0</td>\n",
       "      <td>0.0</td>\n",
       "      <td>1.0</td>\n",
       "      <td>1.0</td>\n",
       "      <td>...</td>\n",
       "      <td>1.0</td>\n",
       "      <td>0.0</td>\n",
       "      <td>2.0</td>\n",
       "      <td>3.0</td>\n",
       "      <td>0.0</td>\n",
       "      <td>0.0</td>\n",
       "      <td>0.0</td>\n",
       "      <td>11.0</td>\n",
       "      <td>5.0</td>\n",
       "      <td>4.0</td>\n",
       "    </tr>\n",
       "  </tbody>\n",
       "</table>\n",
       "<p>5 rows × 22 columns</p>\n",
       "</div>"
      ],
      "text/plain": [
       "   Diabetes_012  HighBP  HighChol  CholCheck   BMI  Smoker  Stroke  \\\n",
       "0           0.0     1.0       1.0        1.0  40.0     1.0     0.0   \n",
       "1           0.0     0.0       0.0        0.0  25.0     1.0     0.0   \n",
       "2           0.0     1.0       1.0        1.0  28.0     0.0     0.0   \n",
       "3           0.0     1.0       0.0        1.0  27.0     0.0     0.0   \n",
       "4           0.0     1.0       1.0        1.0  24.0     0.0     0.0   \n",
       "\n",
       "   HeartDiseaseorAttack  PhysActivity  Fruits  ...  AnyHealthcare  \\\n",
       "0                   0.0           0.0     0.0  ...            1.0   \n",
       "1                   0.0           1.0     0.0  ...            0.0   \n",
       "2                   0.0           0.0     1.0  ...            1.0   \n",
       "3                   0.0           1.0     1.0  ...            1.0   \n",
       "4                   0.0           1.0     1.0  ...            1.0   \n",
       "\n",
       "   NoDocbcCost  GenHlth  MentHlth  PhysHlth  DiffWalk  Sex   Age  Education  \\\n",
       "0          0.0      5.0      18.0      15.0       1.0  0.0   9.0        4.0   \n",
       "1          1.0      3.0       0.0       0.0       0.0  0.0   7.0        6.0   \n",
       "2          1.0      5.0      30.0      30.0       1.0  0.0   9.0        4.0   \n",
       "3          0.0      2.0       0.0       0.0       0.0  0.0  11.0        3.0   \n",
       "4          0.0      2.0       3.0       0.0       0.0  0.0  11.0        5.0   \n",
       "\n",
       "   Income  \n",
       "0     3.0  \n",
       "1     1.0  \n",
       "2     8.0  \n",
       "3     6.0  \n",
       "4     4.0  \n",
       "\n",
       "[5 rows x 22 columns]"
      ]
     },
     "execution_count": 6,
     "metadata": {},
     "output_type": "execute_result"
    }
   ],
   "source": [
    "df = pd.read_csv('diabetes_012_health_indicators_BRFSS2015.csv')\n",
    "df.head()"
   ]
  },
  {
   "cell_type": "code",
   "execution_count": 7,
   "metadata": {
    "colab": {
     "base_uri": "https://localhost:8080/",
     "height": 350
    },
    "id": "5OhpiHcHRVxF",
    "outputId": "1e8524fd-9efa-4f7a-a4f4-f96ee7ae4982"
   },
   "outputs": [
    {
     "data": {
      "text/html": [
       "<div>\n",
       "<style scoped>\n",
       "    .dataframe tbody tr th:only-of-type {\n",
       "        vertical-align: middle;\n",
       "    }\n",
       "\n",
       "    .dataframe tbody tr th {\n",
       "        vertical-align: top;\n",
       "    }\n",
       "\n",
       "    .dataframe thead th {\n",
       "        text-align: right;\n",
       "    }\n",
       "</style>\n",
       "<table border=\"1\" class=\"dataframe\">\n",
       "  <thead>\n",
       "    <tr style=\"text-align: right;\">\n",
       "      <th></th>\n",
       "      <th>Diabetes_012</th>\n",
       "      <th>HighBP</th>\n",
       "      <th>HighChol</th>\n",
       "      <th>CholCheck</th>\n",
       "      <th>BMI</th>\n",
       "      <th>Smoker</th>\n",
       "      <th>Stroke</th>\n",
       "      <th>HeartDiseaseorAttack</th>\n",
       "      <th>PhysActivity</th>\n",
       "      <th>Fruits</th>\n",
       "      <th>...</th>\n",
       "      <th>AnyHealthcare</th>\n",
       "      <th>NoDocbcCost</th>\n",
       "      <th>GenHlth</th>\n",
       "      <th>MentHlth</th>\n",
       "      <th>PhysHlth</th>\n",
       "      <th>DiffWalk</th>\n",
       "      <th>Sex</th>\n",
       "      <th>Age</th>\n",
       "      <th>Education</th>\n",
       "      <th>Income</th>\n",
       "    </tr>\n",
       "  </thead>\n",
       "  <tbody>\n",
       "    <tr>\n",
       "      <th>count</th>\n",
       "      <td>253680.000000</td>\n",
       "      <td>253680.000000</td>\n",
       "      <td>253680.000000</td>\n",
       "      <td>253680.000000</td>\n",
       "      <td>253680.000000</td>\n",
       "      <td>253680.000000</td>\n",
       "      <td>253680.000000</td>\n",
       "      <td>253680.000000</td>\n",
       "      <td>253680.000000</td>\n",
       "      <td>253680.000000</td>\n",
       "      <td>...</td>\n",
       "      <td>253680.000000</td>\n",
       "      <td>253680.000000</td>\n",
       "      <td>253680.000000</td>\n",
       "      <td>253680.000000</td>\n",
       "      <td>253680.000000</td>\n",
       "      <td>253680.000000</td>\n",
       "      <td>253680.000000</td>\n",
       "      <td>253680.000000</td>\n",
       "      <td>253680.000000</td>\n",
       "      <td>253680.000000</td>\n",
       "    </tr>\n",
       "    <tr>\n",
       "      <th>mean</th>\n",
       "      <td>0.296921</td>\n",
       "      <td>0.429001</td>\n",
       "      <td>0.424121</td>\n",
       "      <td>0.962670</td>\n",
       "      <td>28.382364</td>\n",
       "      <td>0.443169</td>\n",
       "      <td>0.040571</td>\n",
       "      <td>0.094186</td>\n",
       "      <td>0.756544</td>\n",
       "      <td>0.634256</td>\n",
       "      <td>...</td>\n",
       "      <td>0.951053</td>\n",
       "      <td>0.084177</td>\n",
       "      <td>2.511392</td>\n",
       "      <td>3.184772</td>\n",
       "      <td>4.242081</td>\n",
       "      <td>0.168224</td>\n",
       "      <td>0.440342</td>\n",
       "      <td>8.032119</td>\n",
       "      <td>5.050434</td>\n",
       "      <td>6.053875</td>\n",
       "    </tr>\n",
       "    <tr>\n",
       "      <th>std</th>\n",
       "      <td>0.698160</td>\n",
       "      <td>0.494934</td>\n",
       "      <td>0.494210</td>\n",
       "      <td>0.189571</td>\n",
       "      <td>6.608694</td>\n",
       "      <td>0.496761</td>\n",
       "      <td>0.197294</td>\n",
       "      <td>0.292087</td>\n",
       "      <td>0.429169</td>\n",
       "      <td>0.481639</td>\n",
       "      <td>...</td>\n",
       "      <td>0.215759</td>\n",
       "      <td>0.277654</td>\n",
       "      <td>1.068477</td>\n",
       "      <td>7.412847</td>\n",
       "      <td>8.717951</td>\n",
       "      <td>0.374066</td>\n",
       "      <td>0.496429</td>\n",
       "      <td>3.054220</td>\n",
       "      <td>0.985774</td>\n",
       "      <td>2.071148</td>\n",
       "    </tr>\n",
       "    <tr>\n",
       "      <th>min</th>\n",
       "      <td>0.000000</td>\n",
       "      <td>0.000000</td>\n",
       "      <td>0.000000</td>\n",
       "      <td>0.000000</td>\n",
       "      <td>12.000000</td>\n",
       "      <td>0.000000</td>\n",
       "      <td>0.000000</td>\n",
       "      <td>0.000000</td>\n",
       "      <td>0.000000</td>\n",
       "      <td>0.000000</td>\n",
       "      <td>...</td>\n",
       "      <td>0.000000</td>\n",
       "      <td>0.000000</td>\n",
       "      <td>1.000000</td>\n",
       "      <td>0.000000</td>\n",
       "      <td>0.000000</td>\n",
       "      <td>0.000000</td>\n",
       "      <td>0.000000</td>\n",
       "      <td>1.000000</td>\n",
       "      <td>1.000000</td>\n",
       "      <td>1.000000</td>\n",
       "    </tr>\n",
       "    <tr>\n",
       "      <th>25%</th>\n",
       "      <td>0.000000</td>\n",
       "      <td>0.000000</td>\n",
       "      <td>0.000000</td>\n",
       "      <td>1.000000</td>\n",
       "      <td>24.000000</td>\n",
       "      <td>0.000000</td>\n",
       "      <td>0.000000</td>\n",
       "      <td>0.000000</td>\n",
       "      <td>1.000000</td>\n",
       "      <td>0.000000</td>\n",
       "      <td>...</td>\n",
       "      <td>1.000000</td>\n",
       "      <td>0.000000</td>\n",
       "      <td>2.000000</td>\n",
       "      <td>0.000000</td>\n",
       "      <td>0.000000</td>\n",
       "      <td>0.000000</td>\n",
       "      <td>0.000000</td>\n",
       "      <td>6.000000</td>\n",
       "      <td>4.000000</td>\n",
       "      <td>5.000000</td>\n",
       "    </tr>\n",
       "    <tr>\n",
       "      <th>50%</th>\n",
       "      <td>0.000000</td>\n",
       "      <td>0.000000</td>\n",
       "      <td>0.000000</td>\n",
       "      <td>1.000000</td>\n",
       "      <td>27.000000</td>\n",
       "      <td>0.000000</td>\n",
       "      <td>0.000000</td>\n",
       "      <td>0.000000</td>\n",
       "      <td>1.000000</td>\n",
       "      <td>1.000000</td>\n",
       "      <td>...</td>\n",
       "      <td>1.000000</td>\n",
       "      <td>0.000000</td>\n",
       "      <td>2.000000</td>\n",
       "      <td>0.000000</td>\n",
       "      <td>0.000000</td>\n",
       "      <td>0.000000</td>\n",
       "      <td>0.000000</td>\n",
       "      <td>8.000000</td>\n",
       "      <td>5.000000</td>\n",
       "      <td>7.000000</td>\n",
       "    </tr>\n",
       "    <tr>\n",
       "      <th>75%</th>\n",
       "      <td>0.000000</td>\n",
       "      <td>1.000000</td>\n",
       "      <td>1.000000</td>\n",
       "      <td>1.000000</td>\n",
       "      <td>31.000000</td>\n",
       "      <td>1.000000</td>\n",
       "      <td>0.000000</td>\n",
       "      <td>0.000000</td>\n",
       "      <td>1.000000</td>\n",
       "      <td>1.000000</td>\n",
       "      <td>...</td>\n",
       "      <td>1.000000</td>\n",
       "      <td>0.000000</td>\n",
       "      <td>3.000000</td>\n",
       "      <td>2.000000</td>\n",
       "      <td>3.000000</td>\n",
       "      <td>0.000000</td>\n",
       "      <td>1.000000</td>\n",
       "      <td>10.000000</td>\n",
       "      <td>6.000000</td>\n",
       "      <td>8.000000</td>\n",
       "    </tr>\n",
       "    <tr>\n",
       "      <th>max</th>\n",
       "      <td>2.000000</td>\n",
       "      <td>1.000000</td>\n",
       "      <td>1.000000</td>\n",
       "      <td>1.000000</td>\n",
       "      <td>98.000000</td>\n",
       "      <td>1.000000</td>\n",
       "      <td>1.000000</td>\n",
       "      <td>1.000000</td>\n",
       "      <td>1.000000</td>\n",
       "      <td>1.000000</td>\n",
       "      <td>...</td>\n",
       "      <td>1.000000</td>\n",
       "      <td>1.000000</td>\n",
       "      <td>5.000000</td>\n",
       "      <td>30.000000</td>\n",
       "      <td>30.000000</td>\n",
       "      <td>1.000000</td>\n",
       "      <td>1.000000</td>\n",
       "      <td>13.000000</td>\n",
       "      <td>6.000000</td>\n",
       "      <td>8.000000</td>\n",
       "    </tr>\n",
       "  </tbody>\n",
       "</table>\n",
       "<p>8 rows × 22 columns</p>\n",
       "</div>"
      ],
      "text/plain": [
       "        Diabetes_012         HighBP       HighChol      CholCheck  \\\n",
       "count  253680.000000  253680.000000  253680.000000  253680.000000   \n",
       "mean        0.296921       0.429001       0.424121       0.962670   \n",
       "std         0.698160       0.494934       0.494210       0.189571   \n",
       "min         0.000000       0.000000       0.000000       0.000000   \n",
       "25%         0.000000       0.000000       0.000000       1.000000   \n",
       "50%         0.000000       0.000000       0.000000       1.000000   \n",
       "75%         0.000000       1.000000       1.000000       1.000000   \n",
       "max         2.000000       1.000000       1.000000       1.000000   \n",
       "\n",
       "                 BMI         Smoker         Stroke  HeartDiseaseorAttack  \\\n",
       "count  253680.000000  253680.000000  253680.000000         253680.000000   \n",
       "mean       28.382364       0.443169       0.040571              0.094186   \n",
       "std         6.608694       0.496761       0.197294              0.292087   \n",
       "min        12.000000       0.000000       0.000000              0.000000   \n",
       "25%        24.000000       0.000000       0.000000              0.000000   \n",
       "50%        27.000000       0.000000       0.000000              0.000000   \n",
       "75%        31.000000       1.000000       0.000000              0.000000   \n",
       "max        98.000000       1.000000       1.000000              1.000000   \n",
       "\n",
       "        PhysActivity         Fruits  ...  AnyHealthcare    NoDocbcCost  \\\n",
       "count  253680.000000  253680.000000  ...  253680.000000  253680.000000   \n",
       "mean        0.756544       0.634256  ...       0.951053       0.084177   \n",
       "std         0.429169       0.481639  ...       0.215759       0.277654   \n",
       "min         0.000000       0.000000  ...       0.000000       0.000000   \n",
       "25%         1.000000       0.000000  ...       1.000000       0.000000   \n",
       "50%         1.000000       1.000000  ...       1.000000       0.000000   \n",
       "75%         1.000000       1.000000  ...       1.000000       0.000000   \n",
       "max         1.000000       1.000000  ...       1.000000       1.000000   \n",
       "\n",
       "             GenHlth       MentHlth       PhysHlth       DiffWalk  \\\n",
       "count  253680.000000  253680.000000  253680.000000  253680.000000   \n",
       "mean        2.511392       3.184772       4.242081       0.168224   \n",
       "std         1.068477       7.412847       8.717951       0.374066   \n",
       "min         1.000000       0.000000       0.000000       0.000000   \n",
       "25%         2.000000       0.000000       0.000000       0.000000   \n",
       "50%         2.000000       0.000000       0.000000       0.000000   \n",
       "75%         3.000000       2.000000       3.000000       0.000000   \n",
       "max         5.000000      30.000000      30.000000       1.000000   \n",
       "\n",
       "                 Sex            Age      Education         Income  \n",
       "count  253680.000000  253680.000000  253680.000000  253680.000000  \n",
       "mean        0.440342       8.032119       5.050434       6.053875  \n",
       "std         0.496429       3.054220       0.985774       2.071148  \n",
       "min         0.000000       1.000000       1.000000       1.000000  \n",
       "25%         0.000000       6.000000       4.000000       5.000000  \n",
       "50%         0.000000       8.000000       5.000000       7.000000  \n",
       "75%         1.000000      10.000000       6.000000       8.000000  \n",
       "max         1.000000      13.000000       6.000000       8.000000  \n",
       "\n",
       "[8 rows x 22 columns]"
      ]
     },
     "execution_count": 7,
     "metadata": {},
     "output_type": "execute_result"
    }
   ],
   "source": [
    "df.describe()"
   ]
  },
  {
   "cell_type": "code",
   "execution_count": 8,
   "metadata": {
    "colab": {
     "base_uri": "https://localhost:8080/"
    },
    "id": "kjwqdatib9fA",
    "outputId": "582015d0-f969-416f-8573-74b6de5fe7f5"
   },
   "outputs": [
    {
     "data": {
      "text/plain": [
       "Diabetes_012            float64\n",
       "HighBP                  float64\n",
       "HighChol                float64\n",
       "CholCheck               float64\n",
       "BMI                     float64\n",
       "Smoker                  float64\n",
       "Stroke                  float64\n",
       "HeartDiseaseorAttack    float64\n",
       "PhysActivity            float64\n",
       "Fruits                  float64\n",
       "Veggies                 float64\n",
       "HvyAlcoholConsump       float64\n",
       "AnyHealthcare           float64\n",
       "NoDocbcCost             float64\n",
       "GenHlth                 float64\n",
       "MentHlth                float64\n",
       "PhysHlth                float64\n",
       "DiffWalk                float64\n",
       "Sex                     float64\n",
       "Age                     float64\n",
       "Education               float64\n",
       "Income                  float64\n",
       "dtype: object"
      ]
     },
     "execution_count": 8,
     "metadata": {},
     "output_type": "execute_result"
    }
   ],
   "source": [
    "#Checking the data type of each column\n",
    "df.dtypes"
   ]
  },
  {
   "cell_type": "code",
   "execution_count": 9,
   "metadata": {
    "colab": {
     "base_uri": "https://localhost:8080/"
    },
    "id": "DebnXtm0ccPs",
    "outputId": "1fb29777-1e53-4c0f-eed7-3dbbb55c7af1"
   },
   "outputs": [
    {
     "data": {
      "text/plain": [
       "Diabetes_012\n",
       "0.0    213703\n",
       "2.0     35346\n",
       "1.0      4631\n",
       "Name: count, dtype: int64"
      ]
     },
     "execution_count": 9,
     "metadata": {},
     "output_type": "execute_result"
    }
   ],
   "source": [
    "#Value counts of our target_variable\n",
    "df['Diabetes_012'].value_counts()"
   ]
  },
  {
   "cell_type": "code",
   "execution_count": 10,
   "metadata": {
    "colab": {
     "base_uri": "https://localhost:8080/"
    },
    "id": "edyUX8eKcsKg",
    "outputId": "6d88d1bb-e633-4ca9-f9ae-4c75acb209a6"
   },
   "outputs": [
    {
     "data": {
      "text/plain": [
       "GenHlth\n",
       "2.0    89084\n",
       "3.0    75646\n",
       "1.0    45299\n",
       "4.0    31570\n",
       "5.0    12081\n",
       "Name: count, dtype: int64"
      ]
     },
     "execution_count": 10,
     "metadata": {},
     "output_type": "execute_result"
    }
   ],
   "source": [
    "df['GenHlth'].value_counts()"
   ]
  },
  {
   "cell_type": "code",
   "execution_count": 11,
   "metadata": {
    "id": "AefmhzmacMQ7"
   },
   "outputs": [],
   "source": [
    "#Converting each datatype into its correct datatype\n",
    "#categorical variable\n",
    "categorical_columns = ['Diabetes_012','Age', 'Education', 'Income', 'GenHlth']\n",
    "#Rest of the columns (binary indicators)\n",
    "integer_columns = df.columns.difference(categorical_columns)\n",
    "#continuous variable\n",
    "float_columns = ['BMI','MentHlth', 'PhysHlth']\n",
    "integer_columns=integer_columns.drop(float_columns)\n"
   ]
  },
  {
   "cell_type": "code",
   "execution_count": 12,
   "metadata": {
    "id": "XydKW9Y0nld9"
   },
   "outputs": [],
   "source": [
    "#converting into desired types:\n",
    "df[categorical_columns] = df[categorical_columns].astype('int64').astype('category')\n",
    "df[integer_columns] = df[integer_columns].astype('int64')\n",
    "df[float_columns] = df[float_columns].astype('float64')"
   ]
  },
  {
   "cell_type": "code",
   "execution_count": 13,
   "metadata": {
    "colab": {
     "base_uri": "https://localhost:8080/"
    },
    "id": "Fk0nmggPnnfl",
    "outputId": "a339119e-39e9-434a-d9b4-3d5866276354"
   },
   "outputs": [
    {
     "data": {
      "text/plain": [
       "Diabetes_012            category\n",
       "HighBP                     int64\n",
       "HighChol                   int64\n",
       "CholCheck                  int64\n",
       "BMI                      float64\n",
       "Smoker                     int64\n",
       "Stroke                     int64\n",
       "HeartDiseaseorAttack       int64\n",
       "PhysActivity               int64\n",
       "Fruits                     int64\n",
       "Veggies                    int64\n",
       "HvyAlcoholConsump          int64\n",
       "AnyHealthcare              int64\n",
       "NoDocbcCost                int64\n",
       "GenHlth                 category\n",
       "MentHlth                 float64\n",
       "PhysHlth                 float64\n",
       "DiffWalk                   int64\n",
       "Sex                        int64\n",
       "Age                     category\n",
       "Education               category\n",
       "Income                  category\n",
       "dtype: object"
      ]
     },
     "execution_count": 13,
     "metadata": {},
     "output_type": "execute_result"
    }
   ],
   "source": [
    "df.dtypes"
   ]
  },
  {
   "cell_type": "markdown",
   "metadata": {
    "id": "IAlFSzGl88f_"
   },
   "source": [
    "CHECK FOR MISSING VALUES:"
   ]
  },
  {
   "cell_type": "code",
   "execution_count": 14,
   "metadata": {
    "colab": {
     "base_uri": "https://localhost:8080/"
    },
    "id": "ntnWKG_euTyq",
    "outputId": "08bd7c48-f355-4004-aeee-78396337492d"
   },
   "outputs": [
    {
     "data": {
      "text/plain": [
       "Diabetes_012            0\n",
       "HighBP                  0\n",
       "HighChol                0\n",
       "CholCheck               0\n",
       "BMI                     0\n",
       "Smoker                  0\n",
       "Stroke                  0\n",
       "HeartDiseaseorAttack    0\n",
       "PhysActivity            0\n",
       "Fruits                  0\n",
       "Veggies                 0\n",
       "HvyAlcoholConsump       0\n",
       "AnyHealthcare           0\n",
       "NoDocbcCost             0\n",
       "GenHlth                 0\n",
       "MentHlth                0\n",
       "PhysHlth                0\n",
       "DiffWalk                0\n",
       "Sex                     0\n",
       "Age                     0\n",
       "Education               0\n",
       "Income                  0\n",
       "dtype: int64"
      ]
     },
     "execution_count": 14,
     "metadata": {},
     "output_type": "execute_result"
    }
   ],
   "source": [
    "df.isnull().sum()"
   ]
  },
  {
   "cell_type": "markdown",
   "metadata": {
    "id": "N0IQw-A19Fkv"
   },
   "source": [
    "There's no missing values. Let's move on with invalid values in the dataset."
   ]
  },
  {
   "cell_type": "code",
   "execution_count": 15,
   "metadata": {
    "colab": {
     "base_uri": "https://localhost:8080/"
    },
    "id": "C9T0NLFK9vQm",
    "outputId": "064e8050-01ab-4c0c-ab08-58fc156c51be"
   },
   "outputs": [
    {
     "data": {
      "text/plain": [
       "AnyHealthcare           0\n",
       "CholCheck               0\n",
       "DiffWalk                0\n",
       "Fruits                  0\n",
       "HeartDiseaseorAttack    0\n",
       "HighBP                  0\n",
       "HighChol                0\n",
       "HvyAlcoholConsump       0\n",
       "NoDocbcCost             0\n",
       "PhysActivity            0\n",
       "Sex                     0\n",
       "Smoker                  0\n",
       "Stroke                  0\n",
       "Veggies                 0\n",
       "dtype: int64"
      ]
     },
     "execution_count": 15,
     "metadata": {},
     "output_type": "execute_result"
    }
   ],
   "source": [
    "#BINARY CHECK\n",
    "df[integer_columns].apply(lambda x: ((x != 0) & (x != 1)).sum())"
   ]
  },
  {
   "cell_type": "code",
   "execution_count": 16,
   "metadata": {
    "colab": {
     "base_uri": "https://localhost:8080/"
    },
    "id": "99jxKEd8-99x",
    "outputId": "31065d0f-ae59-4455-a41b-1e5c47fd55ee"
   },
   "outputs": [
    {
     "name": "stdout",
     "output_type": "stream",
     "text": [
      "Diabetes_012\n",
      "0    213703\n",
      "2     35346\n",
      "1      4631\n",
      "Name: count, dtype: int64\n",
      "Age\n",
      "9     33244\n",
      "10    32194\n",
      "8     30832\n",
      "7     26314\n",
      "11    23533\n",
      "6     19819\n",
      "13    17363\n",
      "5     16157\n",
      "12    15980\n",
      "4     13823\n",
      "3     11123\n",
      "2      7598\n",
      "1      5700\n",
      "Name: count, dtype: int64\n",
      "Education\n",
      "6    107325\n",
      "5     69910\n",
      "4     62750\n",
      "3      9478\n",
      "2      4043\n",
      "1       174\n",
      "Name: count, dtype: int64\n",
      "Income\n",
      "8    90385\n",
      "7    43219\n",
      "6    36470\n",
      "5    25883\n",
      "4    20135\n",
      "3    15994\n",
      "2    11783\n",
      "1     9811\n",
      "Name: count, dtype: int64\n",
      "GenHlth\n",
      "2    89084\n",
      "3    75646\n",
      "1    45299\n",
      "4    31570\n",
      "5    12081\n",
      "Name: count, dtype: int64\n"
     ]
    }
   ],
   "source": [
    "#CATEGORY CHECK FOR CATEGORICAL COLUMNS\n",
    "for i in categorical_columns:\n",
    "  print(df[i].value_counts())"
   ]
  },
  {
   "cell_type": "code",
   "execution_count": 17,
   "metadata": {
    "colab": {
     "base_uri": "https://localhost:8080/"
    },
    "id": "zuiAfFaV1b0-",
    "outputId": "78d367c6-9c6e-4bec-fb7d-d04a275fc177"
   },
   "outputs": [
    {
     "data": {
      "text/plain": [
       "23899"
      ]
     },
     "execution_count": 17,
     "metadata": {},
     "output_type": "execute_result"
    }
   ],
   "source": [
    "#Checking for duplicates\n",
    "df.duplicated().sum()"
   ]
  },
  {
   "cell_type": "code",
   "execution_count": 18,
   "metadata": {
    "id": "LIPAU3V31hGi"
   },
   "outputs": [],
   "source": [
    "#dropping duplicates\n",
    "df.drop_duplicates(inplace=True)"
   ]
  },
  {
   "cell_type": "markdown",
   "metadata": {
    "id": "5-5bvJlG_1S9"
   },
   "source": [
    "#### There's no invalid value in the dataset"
   ]
  },
  {
   "cell_type": "markdown",
   "metadata": {
    "id": "YId26GEa_LIw"
   },
   "source": [
    "Outlier check"
   ]
  },
  {
   "cell_type": "code",
   "execution_count": 19,
   "metadata": {
    "colab": {
     "base_uri": "https://localhost:8080/",
     "height": 850
    },
    "id": "_3JY5jpv_JHF",
    "outputId": "3b3acda8-4aea-4dfb-87b9-1c84e63cfda0"
   },
   "outputs": [
    {
     "data": {
      "image/png": "[encoded data removed]",
      "text/plain": [
       "<Figure size 1000x1000 with 3 Axes>"
      ]
     },
     "metadata": {},
     "output_type": "display_data"
    }
   ],
   "source": [
    "\n",
    "#Checking the outlier through box plot of float columns\n",
    "fig, ax = plt.subplots(3,1, figsize=(10,10))\n",
    "for i,j in enumerate(float_columns):\n",
    "  if j =='BMI':\n",
    "    sns.boxplot(x=(df[j]), ax=ax[i])\n",
    "  else:\n",
    "    sns.boxplot(x=(df[j]), ax=ax[i])"
   ]
  },
  {
   "cell_type": "markdown",
   "metadata": {
    "id": "5RmMm5XsAqbG"
   },
   "source": [
    "### Outlier Analysis\n",
    "#### 1. BMI: Several points are far beyond the typical range, which could indicate measurement errors or extreme cases.\n",
    "#### 2. MentHlth and PhysHlth: These represent days affected by mental or physical health issues respectively. The outliers suggest that some respondents reported the maximum possible days, which might be true extremes or data entry exaggerations."
   ]
  },
  {
   "cell_type": "code",
   "execution_count": 20,
   "metadata": {
    "colab": {
     "base_uri": "https://localhost:8080/"
    },
    "id": "gXBwN-xatRdw",
    "outputId": "089b6798-685b-4cbe-9c32-6e03c8f0fab4"
   },
   "outputs": [
    {
     "data": {
      "text/plain": [
       "1690"
      ]
     },
     "execution_count": 20,
     "metadata": {},
     "output_type": "execute_result"
    }
   ],
   "source": [
    "\n",
    "len(df[(df['PhysHlth']>10) & (df['Diabetes_012'].isin([1,2]) & (df['BMI']>40))])"
   ]
  },
  {
   "cell_type": "code",
   "execution_count": 21,
   "metadata": {
    "colab": {
     "base_uri": "https://localhost:8080/"
    },
    "id": "otYc0hFpten3",
    "outputId": "7aca5b11-eba0-417a-d73d-04d73d8555cf"
   },
   "outputs": [
    {
     "data": {
      "text/plain": [
       "1614"
      ]
     },
     "execution_count": 21,
     "metadata": {},
     "output_type": "execute_result"
    }
   ],
   "source": [
    "len(df[(df['PhysHlth']>10) & (df['Diabetes_012'].isin([0]) & (df['BMI']>40))])"
   ]
  },
  {
   "cell_type": "markdown",
   "metadata": {
    "id": "GqpQkM8gA4A2"
   },
   "source": [
    "##### We will plan to scale these continous variables to handle outliers. Removing the outliers can impact the class record for person having diabetes because person having higher BMI, PhysHlth, MentHlth"
   ]
  },
  {
   "cell_type": "markdown",
   "metadata": {
    "id": "742ksfQ_BM5j"
   },
   "source": [
    "#### Let's analyze our class distribution"
   ]
  },
  {
   "cell_type": "code",
   "execution_count": 22,
   "metadata": {
    "colab": {
     "base_uri": "https://localhost:8080/",
     "height": 472
    },
    "id": "qeerLkG5BKKS",
    "outputId": "e21ab55b-b474-4d90-f23d-5a9f162eb735"
   },
   "outputs": [
    {
     "data": {
      "image/png": "[encoded data removed]",
      "text/plain": [
       "<Figure size 640x480 with 1 Axes>"
      ]
     },
     "metadata": {},
     "output_type": "display_data"
    }
   ],
   "source": [
    "#Distribution of our target variable through histogram\n",
    "plt.hist(df['Diabetes_012'], bins=3)\n",
    "plt.title('Distribution of Diabetes Outcomes')\n",
    "plt.xlabel('Diabetes Outcome')\n",
    "plt.ylabel('Count')\n",
    "plt.xticks([0,1,2], ['Non-diabetic (0)', 'Pre-diabetic (1)', 'Diabetic (2)'])\n",
    "plt.show()"
   ]
  },
  {
   "cell_type": "markdown",
   "metadata": {
    "id": "yZ04R9hlBkG8"
   },
   "source": [
    "#### There's a huge class imbalance and would require some sort of sampling or assigning class weights to minority class to avoid Biasness towards Non-diabetic person."
   ]
  },
  {
   "cell_type": "markdown",
   "metadata": {
    "id": "8b4ipMEyB0Dy"
   },
   "source": [
    "Let's see the relationship of Diabetes_012 column with other variables"
   ]
  },
  {
   "cell_type": "code",
   "execution_count": 23,
   "metadata": {
    "colab": {
     "base_uri": "https://localhost:8080/",
     "height": 1000
    },
    "id": "rg45Wf1VB6rm",
    "outputId": "434e40a1-dc37-467f-f9d8-53115e47b92a"
   },
   "outputs": [
    {
     "name": "stderr",
     "output_type": "stream",
     "text": [
      "C:\\Users\\navee\\anaconda3\\Lib\\site-packages\\seaborn\\categorical.py:641: FutureWarning: The default of observed=False is deprecated and will be changed to True in a future version of pandas. Pass observed=False to retain current behavior or observed=True to adopt the future default and silence this warning.\n",
      "  grouped_vals = vals.groupby(grouper)\n",
      "C:\\Users\\navee\\anaconda3\\Lib\\site-packages\\seaborn\\categorical.py:641: FutureWarning: The default of observed=False is deprecated and will be changed to True in a future version of pandas. Pass observed=False to retain current behavior or observed=True to adopt the future default and silence this warning.\n",
      "  grouped_vals = vals.groupby(grouper)\n",
      "C:\\Users\\navee\\anaconda3\\Lib\\site-packages\\seaborn\\categorical.py:641: FutureWarning: The default of observed=False is deprecated and will be changed to True in a future version of pandas. Pass observed=False to retain current behavior or observed=True to adopt the future default and silence this warning.\n",
      "  grouped_vals = vals.groupby(grouper)\n",
      "C:\\Users\\navee\\anaconda3\\Lib\\site-packages\\seaborn\\categorical.py:641: FutureWarning: The default of observed=False is deprecated and will be changed to True in a future version of pandas. Pass observed=False to retain current behavior or observed=True to adopt the future default and silence this warning.\n",
      "  grouped_vals = vals.groupby(grouper)\n"
     ]
    },
    {
     "data": {
      "image/png": "[encoded data removed]",
      "text/plain": [
       "<Figure size 1000x1000 with 4 Axes>"
      ]
     },
     "metadata": {},
     "output_type": "display_data"
    }
   ],
   "source": [
    "significant_vars = ['BMI', 'PhysActivity', 'MentHlth', 'PhysHlth']\n",
    "plt.figure(figsize=(10, 10))\n",
    "for i, var in enumerate(significant_vars):\n",
    "    plt.subplot(2, 3, i+1)\n",
    "    if var =='Age':\n",
    "      #horizontal plot\n",
    "      sns.barplot(x=df[var], y=df['Diabetes_012'],orient = 'h')\n",
    "    else:\n",
    "      sns.boxplot(x=df[var], y=df['Diabetes_012'])\n",
    "    plt.title(f'Diabetes Outcome vs {var}')\n",
    "    plt.ylabel('Diabetes Outcome')\n",
    "    plt.xlabel(var)\n",
    "\n",
    "plt.tight_layout()\n",
    "plt.show()"
   ]
  },
  {
   "cell_type": "markdown",
   "metadata": {
    "id": "HfibJmNnEJ6x"
   },
   "source": [
    "\n",
    "#### Analysis\n",
    "#### 1. BMI vs. Diabetes Outcome: Higher BMI values tend to cluster more around higher diabetes outcomes (pre-diabetic and diabetic). This suggests a potential correlation where higher BMI might be associated with an increased risk of diabetes.\n",
    "#### 2. Age vs. Diabetes Outcome: Older ages appear to have a higher concentration of diabetic outcomes, indicating age as a significant risk factor.\n",
    "#### 3. Physical Activity (PhysActivity) vs. Diabetes Outcome: Lower levels of physical activity correspond to higher diabetes outcomes, supporting the hypothesis that physical inactivity may be associated with an increased risk of diabetes.\n",
    "#### 4. Mental Health (MentHlth) and Physical Health (PhysHlth) vs. Diabetes Outcome: Both show varied distributions, suggesting that worse health scores (both mental and physical) might be associated with higher diabetes outcomes."
   ]
  },
  {
   "cell_type": "markdown",
   "metadata": {
    "id": "nvCegb29F6Os"
   },
   "source": [
    "# Performing significance tests to determine if the patterns that are detected above are statistically significant."
   ]
  },
  {
   "cell_type": "markdown",
   "metadata": {
    "id": "-oi3nDmoCLyp"
   },
   "source": [
    "### Correlation Matrix with continuous columns"
   ]
  },
  {
   "cell_type": "code",
   "execution_count": 24,
   "metadata": {
    "colab": {
     "base_uri": "https://localhost:8080/",
     "height": 699
    },
    "id": "QeASXJTexDW3",
    "outputId": "a2a81536-e498-4a3c-e85e-f3b5b5d107c0"
   },
   "outputs": [
    {
     "data": {
      "image/png": "[encoded data removed]",
      "text/plain": [
       "<Figure size 1200x800 with 2 Axes>"
      ]
     },
     "metadata": {},
     "output_type": "display_data"
    }
   ],
   "source": [
    "continuous_columns = ['BMI', 'MentHlth', 'PhysHlth','Age','Income','Education']\n",
    "#log_columns = ['BMI', 'MentHlth', 'PhysHlth']\n",
    "correlation_matrix = df[['Diabetes_012'] + continuous_columns]\n",
    "#correlation_matrix[log_columns] = np.log(correlation_matrix[log_columns])\n",
    "correlation_matrix=correlation_matrix.corr()\n",
    "# Visualize the correlation matrix using a heatmap\n",
    "plt.figure(figsize=(12, 8))\n",
    "sns.heatmap(correlation_matrix, annot=True, cmap='coolwarm', fmt=\".2f\", linewidths=1)\n",
    "plt.title('Correlation Matrix for Continuous Variables')\n",
    "plt.show()"
   ]
  },
  {
   "cell_type": "markdown",
   "metadata": {
    "id": "ZTxvOv7lFljm"
   },
   "source": [
    "#### Analysis\n",
    "##### 1. BMI shows a moderate positive correlation with diabetes outcomes, suggesting that as BMI increases, so does the likelihood of being diabetic or pre-diabetic.\n",
    "##### 2. Age also has a moderate positive correlation with diabetes outcomes, indicating that older individuals have a higher likelihood of having diabetes.\n",
    "##### 3. Income and Education show a slight negative correlation with diabetes outcomes, hinting that higher income and education levels may be associated with lower diabetes prevalence."
   ]
  },
  {
   "cell_type": "markdown",
   "metadata": {
    "id": "XwTcgbIQPRGk"
   },
   "source": [
    "Multicollinearilty test with the variables"
   ]
  },
  {
   "cell_type": "code",
   "execution_count": 25,
   "metadata": {
    "colab": {
     "base_uri": "https://localhost:8080/",
     "height": 699
    },
    "id": "ivEA--6cPURm",
    "outputId": "afecd10a-0145-40a9-897d-0258c914808b"
   },
   "outputs": [
    {
     "data": {
      "image/png": "[encoded data removed]",
      "text/plain": [
       "<Figure size 1000x800 with 2 Axes>"
      ]
     },
     "metadata": {},
     "output_type": "display_data"
    }
   ],
   "source": [
    "correlation_matrix = df[['BMI', 'Age', 'MentHlth', 'PhysHlth', 'Education', 'Income']].corr()\n",
    "\n",
    "# Visualize the correlation matrix\n",
    "plt.figure(figsize=(10, 8))\n",
    "sns.heatmap(correlation_matrix, annot=True, cmap='coolwarm', fmt=\".2f\")\n",
    "plt.title('Correlation Matrix for Continuous Features')\n",
    "plt.show()"
   ]
  },
  {
   "cell_type": "markdown",
   "metadata": {
    "id": "o_KiLySAPYqO"
   },
   "source": [
    "That is a good sign to see that significant variables are not correlated with each other. (0.45 is a moderate relation)"
   ]
  },
  {
   "cell_type": "markdown",
   "metadata": {
    "id": "1hKbkAL1FyHB"
   },
   "source": [
    "#### Statistical T-test"
   ]
  },
  {
   "cell_type": "code",
   "execution_count": 26,
   "metadata": {
    "colab": {
     "base_uri": "https://localhost:8080/"
    },
    "id": "1IbpReB0FxcO",
    "outputId": "dd18a058-8b6c-4564-bce7-347ff216b5b2"
   },
   "outputs": [
    {
     "data": {
      "text/plain": [
       "{'AnyHealthcare': 7.076078548666687e-33,\n",
       " 'CholCheck': 3.824009404772498e-289,\n",
       " 'DiffWalk': 0.0,\n",
       " 'Fruits': 2.8395711130029448e-34,\n",
       " 'HeartDiseaseorAttack': 0.0,\n",
       " 'HighBP': 0.0,\n",
       " 'HighChol': 0.0,\n",
       " 'HvyAlcoholConsump': 6.350431787393671e-228,\n",
       " 'NoDocbcCost': 1.3270340932366845e-29,\n",
       " 'PhysActivity': 0.0,\n",
       " 'Sex': 6.483156712626619e-54,\n",
       " 'Smoker': 1.8493199150591577e-111,\n",
       " 'Stroke': 0.0,\n",
       " 'Veggies': 2.0592080730308895e-96}"
      ]
     },
     "execution_count": 26,
     "metadata": {},
     "output_type": "execute_result"
    }
   ],
   "source": [
    "from scipy.stats import ttest_ind\n",
    "\n",
    "# Function to perform t-test for binary categorical variables\n",
    "def perform_t_test(df, binary_var, outcome_var):\n",
    "    group1 = df[df[binary_var] == 0][outcome_var]\n",
    "    group2 = df[df[binary_var] == 1][outcome_var]\n",
    "    t_stat, p_value = ttest_ind(group1, group2)\n",
    "    return p_value\n",
    "\n",
    "# Perform t-tests for binary variables\n",
    "t_test_results = {col: perform_t_test(df, col, 'Diabetes_012') for col in integer_columns}\n",
    "\n",
    "t_test_results"
   ]
  },
  {
   "cell_type": "markdown",
   "metadata": {
    "id": "y64paAV9WQ6O"
   },
   "source": [
    "### Since the p-values of all the variables are coming out to be very low and given that the variables semantic meaning shows a good relation with the target variable, it seems fair to use all."
   ]
  },
  {
   "cell_type": "markdown",
   "metadata": {
    "id": "SEjAHYjuPwKY"
   },
   "source": [
    "### Feature Selection:"
   ]
  },
  {
   "cell_type": "code",
   "execution_count": 27,
   "metadata": {
    "colab": {
     "base_uri": "https://localhost:8080/"
    },
    "id": "tTJJshfOTaHE",
    "outputId": "1192ca59-9a81-41fe-a0d5-fffef115ff86"
   },
   "outputs": [
    {
     "data": {
      "text/plain": [
       "6.250069453978259e-13"
      ]
     },
     "execution_count": 27,
     "metadata": {},
     "output_type": "execute_result"
    }
   ],
   "source": [
    "\n",
    "#Feature Engineering: Combining Fruits and Veggies by naming it as Diet Index.\n",
    "df['DietIntake'] = df['Fruits'] + df['Veggies']\n",
    "#Performing t-test with target variable to check its significance\n",
    "perform_t_test(df, 'DietIntake', 'Diabetes_012')"
   ]
  },
  {
   "cell_type": "markdown",
   "metadata": {
    "id": "rf64T0utVB28"
   },
   "source": [
    "Value is pretty small, we can use it instead of Fruits and Veggies"
   ]
  },
  {
   "cell_type": "code",
   "execution_count": 28,
   "metadata": {
    "colab": {
     "base_uri": "https://localhost:8080/"
    },
    "id": "1GkS7agsVHoo",
    "outputId": "82449c79-8c19-4d48-dcbe-747f1210b18f"
   },
   "outputs": [
    {
     "data": {
      "text/plain": [
       "{'Education': 0.0, 'Income': 0.0, 'Age': 0.0, 'GenHlth': 0.0}"
      ]
     },
     "execution_count": 28,
     "metadata": {},
     "output_type": "execute_result"
    }
   ],
   "source": [
    "from scipy.stats import chi2_contingency\n",
    "\n",
    "# Function to perform chi-square test and return p-value\n",
    "def perform_chi_square_test(data, categorical_var, outcome_var):\n",
    "    contingency_table = pd.crosstab(data[categorical_var], data[outcome_var])\n",
    "    _, p_value, _, _ = chi2_contingency(contingency_table)\n",
    "    return p_value\n",
    "\n",
    "# Perform chi-square tests for 'Education' and 'Income'\n",
    "chi_square_results = {\n",
    "    \"Education\": perform_chi_square_test(df, 'Education', 'Diabetes_012'),\n",
    "    \"Income\": perform_chi_square_test(df, 'Income', 'Diabetes_012'),\n",
    "    \"Age\": perform_chi_square_test(df, 'Age', 'Diabetes_012'),\n",
    "    \"GenHlth\": perform_chi_square_test(df, 'GenHlth', 'Diabetes_012'),\n",
    "}\n",
    "\n",
    "chi_square_results\n"
   ]
  },
  {
   "cell_type": "code",
   "execution_count": 29,
   "metadata": {
    "id": "g4YOYpsVPyfr"
   },
   "outputs": [],
   "source": [
    "#Final feature selection from correlation and t-test\n",
    "final_features = ['BMI', 'Age', 'PhysHlth', 'Income','Diabetes_012','MentHlth'] #correlation\n",
    "#Based on t-test\n",
    "final_features.extend(['CholCheck','DiffWalk','HeartDiseaseorAttack','HighBP','HighChol','HvyAlcoholConsump','NoDocbcCost','PhysActivity','Sex','Smoker','Stroke','DietIntake'])\n"
   ]
  },
  {
   "cell_type": "code",
   "execution_count": 30,
   "metadata": {
    "colab": {
     "base_uri": "https://localhost:8080/",
     "height": 444
    },
    "id": "p_D5v6PnTDNe",
    "outputId": "de3fbf10-2bae-47df-d471-90a5778e0d56"
   },
   "outputs": [
    {
     "data": {
      "text/html": [
       "<div>\n",
       "<style scoped>\n",
       "    .dataframe tbody tr th:only-of-type {\n",
       "        vertical-align: middle;\n",
       "    }\n",
       "\n",
       "    .dataframe tbody tr th {\n",
       "        vertical-align: top;\n",
       "    }\n",
       "\n",
       "    .dataframe thead th {\n",
       "        text-align: right;\n",
       "    }\n",
       "</style>\n",
       "<table border=\"1\" class=\"dataframe\">\n",
       "  <thead>\n",
       "    <tr style=\"text-align: right;\">\n",
       "      <th></th>\n",
       "      <th>BMI</th>\n",
       "      <th>Age</th>\n",
       "      <th>PhysHlth</th>\n",
       "      <th>Income</th>\n",
       "      <th>Diabetes_012</th>\n",
       "      <th>MentHlth</th>\n",
       "      <th>CholCheck</th>\n",
       "      <th>DiffWalk</th>\n",
       "      <th>HeartDiseaseorAttack</th>\n",
       "      <th>HighBP</th>\n",
       "      <th>HighChol</th>\n",
       "      <th>HvyAlcoholConsump</th>\n",
       "      <th>NoDocbcCost</th>\n",
       "      <th>PhysActivity</th>\n",
       "      <th>Sex</th>\n",
       "      <th>Smoker</th>\n",
       "      <th>Stroke</th>\n",
       "      <th>DietIntake</th>\n",
       "    </tr>\n",
       "  </thead>\n",
       "  <tbody>\n",
       "    <tr>\n",
       "      <th>0</th>\n",
       "      <td>40.0</td>\n",
       "      <td>9</td>\n",
       "      <td>15.0</td>\n",
       "      <td>3</td>\n",
       "      <td>0</td>\n",
       "      <td>18.0</td>\n",
       "      <td>1</td>\n",
       "      <td>1</td>\n",
       "      <td>0</td>\n",
       "      <td>1</td>\n",
       "      <td>1</td>\n",
       "      <td>0</td>\n",
       "      <td>0</td>\n",
       "      <td>0</td>\n",
       "      <td>0</td>\n",
       "      <td>1</td>\n",
       "      <td>0</td>\n",
       "      <td>1</td>\n",
       "    </tr>\n",
       "    <tr>\n",
       "      <th>1</th>\n",
       "      <td>25.0</td>\n",
       "      <td>7</td>\n",
       "      <td>0.0</td>\n",
       "      <td>1</td>\n",
       "      <td>0</td>\n",
       "      <td>0.0</td>\n",
       "      <td>0</td>\n",
       "      <td>0</td>\n",
       "      <td>0</td>\n",
       "      <td>0</td>\n",
       "      <td>0</td>\n",
       "      <td>0</td>\n",
       "      <td>1</td>\n",
       "      <td>1</td>\n",
       "      <td>0</td>\n",
       "      <td>1</td>\n",
       "      <td>0</td>\n",
       "      <td>0</td>\n",
       "    </tr>\n",
       "    <tr>\n",
       "      <th>2</th>\n",
       "      <td>28.0</td>\n",
       "      <td>9</td>\n",
       "      <td>30.0</td>\n",
       "      <td>8</td>\n",
       "      <td>0</td>\n",
       "      <td>30.0</td>\n",
       "      <td>1</td>\n",
       "      <td>1</td>\n",
       "      <td>0</td>\n",
       "      <td>1</td>\n",
       "      <td>1</td>\n",
       "      <td>0</td>\n",
       "      <td>1</td>\n",
       "      <td>0</td>\n",
       "      <td>0</td>\n",
       "      <td>0</td>\n",
       "      <td>0</td>\n",
       "      <td>1</td>\n",
       "    </tr>\n",
       "    <tr>\n",
       "      <th>3</th>\n",
       "      <td>27.0</td>\n",
       "      <td>11</td>\n",
       "      <td>0.0</td>\n",
       "      <td>6</td>\n",
       "      <td>0</td>\n",
       "      <td>0.0</td>\n",
       "      <td>1</td>\n",
       "      <td>0</td>\n",
       "      <td>0</td>\n",
       "      <td>1</td>\n",
       "      <td>0</td>\n",
       "      <td>0</td>\n",
       "      <td>0</td>\n",
       "      <td>1</td>\n",
       "      <td>0</td>\n",
       "      <td>0</td>\n",
       "      <td>0</td>\n",
       "      <td>2</td>\n",
       "    </tr>\n",
       "    <tr>\n",
       "      <th>4</th>\n",
       "      <td>24.0</td>\n",
       "      <td>11</td>\n",
       "      <td>0.0</td>\n",
       "      <td>4</td>\n",
       "      <td>0</td>\n",
       "      <td>3.0</td>\n",
       "      <td>1</td>\n",
       "      <td>0</td>\n",
       "      <td>0</td>\n",
       "      <td>1</td>\n",
       "      <td>1</td>\n",
       "      <td>0</td>\n",
       "      <td>0</td>\n",
       "      <td>1</td>\n",
       "      <td>0</td>\n",
       "      <td>0</td>\n",
       "      <td>0</td>\n",
       "      <td>2</td>\n",
       "    </tr>\n",
       "    <tr>\n",
       "      <th>...</th>\n",
       "      <td>...</td>\n",
       "      <td>...</td>\n",
       "      <td>...</td>\n",
       "      <td>...</td>\n",
       "      <td>...</td>\n",
       "      <td>...</td>\n",
       "      <td>...</td>\n",
       "      <td>...</td>\n",
       "      <td>...</td>\n",
       "      <td>...</td>\n",
       "      <td>...</td>\n",
       "      <td>...</td>\n",
       "      <td>...</td>\n",
       "      <td>...</td>\n",
       "      <td>...</td>\n",
       "      <td>...</td>\n",
       "      <td>...</td>\n",
       "      <td>...</td>\n",
       "    </tr>\n",
       "    <tr>\n",
       "      <th>253675</th>\n",
       "      <td>45.0</td>\n",
       "      <td>5</td>\n",
       "      <td>5.0</td>\n",
       "      <td>7</td>\n",
       "      <td>0</td>\n",
       "      <td>0.0</td>\n",
       "      <td>1</td>\n",
       "      <td>0</td>\n",
       "      <td>0</td>\n",
       "      <td>1</td>\n",
       "      <td>1</td>\n",
       "      <td>0</td>\n",
       "      <td>0</td>\n",
       "      <td>0</td>\n",
       "      <td>1</td>\n",
       "      <td>0</td>\n",
       "      <td>0</td>\n",
       "      <td>2</td>\n",
       "    </tr>\n",
       "    <tr>\n",
       "      <th>253676</th>\n",
       "      <td>18.0</td>\n",
       "      <td>11</td>\n",
       "      <td>0.0</td>\n",
       "      <td>4</td>\n",
       "      <td>2</td>\n",
       "      <td>0.0</td>\n",
       "      <td>1</td>\n",
       "      <td>1</td>\n",
       "      <td>0</td>\n",
       "      <td>1</td>\n",
       "      <td>1</td>\n",
       "      <td>0</td>\n",
       "      <td>0</td>\n",
       "      <td>0</td>\n",
       "      <td>0</td>\n",
       "      <td>0</td>\n",
       "      <td>0</td>\n",
       "      <td>0</td>\n",
       "    </tr>\n",
       "    <tr>\n",
       "      <th>253677</th>\n",
       "      <td>28.0</td>\n",
       "      <td>2</td>\n",
       "      <td>0.0</td>\n",
       "      <td>2</td>\n",
       "      <td>0</td>\n",
       "      <td>0.0</td>\n",
       "      <td>1</td>\n",
       "      <td>0</td>\n",
       "      <td>0</td>\n",
       "      <td>0</td>\n",
       "      <td>0</td>\n",
       "      <td>0</td>\n",
       "      <td>0</td>\n",
       "      <td>1</td>\n",
       "      <td>0</td>\n",
       "      <td>0</td>\n",
       "      <td>0</td>\n",
       "      <td>1</td>\n",
       "    </tr>\n",
       "    <tr>\n",
       "      <th>253678</th>\n",
       "      <td>23.0</td>\n",
       "      <td>7</td>\n",
       "      <td>0.0</td>\n",
       "      <td>1</td>\n",
       "      <td>0</td>\n",
       "      <td>0.0</td>\n",
       "      <td>1</td>\n",
       "      <td>0</td>\n",
       "      <td>0</td>\n",
       "      <td>1</td>\n",
       "      <td>0</td>\n",
       "      <td>0</td>\n",
       "      <td>0</td>\n",
       "      <td>0</td>\n",
       "      <td>1</td>\n",
       "      <td>0</td>\n",
       "      <td>0</td>\n",
       "      <td>2</td>\n",
       "    </tr>\n",
       "    <tr>\n",
       "      <th>253679</th>\n",
       "      <td>25.0</td>\n",
       "      <td>9</td>\n",
       "      <td>0.0</td>\n",
       "      <td>2</td>\n",
       "      <td>2</td>\n",
       "      <td>0.0</td>\n",
       "      <td>1</td>\n",
       "      <td>0</td>\n",
       "      <td>1</td>\n",
       "      <td>1</td>\n",
       "      <td>1</td>\n",
       "      <td>0</td>\n",
       "      <td>0</td>\n",
       "      <td>1</td>\n",
       "      <td>0</td>\n",
       "      <td>0</td>\n",
       "      <td>0</td>\n",
       "      <td>1</td>\n",
       "    </tr>\n",
       "  </tbody>\n",
       "</table>\n",
       "<p>229781 rows × 18 columns</p>\n",
       "</div>"
      ],
      "text/plain": [
       "         BMI Age  PhysHlth Income Diabetes_012  MentHlth  CholCheck  DiffWalk  \\\n",
       "0       40.0   9      15.0      3            0      18.0          1         1   \n",
       "1       25.0   7       0.0      1            0       0.0          0         0   \n",
       "2       28.0   9      30.0      8            0      30.0          1         1   \n",
       "3       27.0  11       0.0      6            0       0.0          1         0   \n",
       "4       24.0  11       0.0      4            0       3.0          1         0   \n",
       "...      ...  ..       ...    ...          ...       ...        ...       ...   \n",
       "253675  45.0   5       5.0      7            0       0.0          1         0   \n",
       "253676  18.0  11       0.0      4            2       0.0          1         1   \n",
       "253677  28.0   2       0.0      2            0       0.0          1         0   \n",
       "253678  23.0   7       0.0      1            0       0.0          1         0   \n",
       "253679  25.0   9       0.0      2            2       0.0          1         0   \n",
       "\n",
       "        HeartDiseaseorAttack  HighBP  HighChol  HvyAlcoholConsump  \\\n",
       "0                          0       1         1                  0   \n",
       "1                          0       0         0                  0   \n",
       "2                          0       1         1                  0   \n",
       "3                          0       1         0                  0   \n",
       "4                          0       1         1                  0   \n",
       "...                      ...     ...       ...                ...   \n",
       "253675                     0       1         1                  0   \n",
       "253676                     0       1         1                  0   \n",
       "253677                     0       0         0                  0   \n",
       "253678                     0       1         0                  0   \n",
       "253679                     1       1         1                  0   \n",
       "\n",
       "        NoDocbcCost  PhysActivity  Sex  Smoker  Stroke  DietIntake  \n",
       "0                 0             0    0       1       0           1  \n",
       "1                 1             1    0       1       0           0  \n",
       "2                 1             0    0       0       0           1  \n",
       "3                 0             1    0       0       0           2  \n",
       "4                 0             1    0       0       0           2  \n",
       "...             ...           ...  ...     ...     ...         ...  \n",
       "253675            0             0    1       0       0           2  \n",
       "253676            0             0    0       0       0           0  \n",
       "253677            0             1    0       0       0           1  \n",
       "253678            0             0    1       0       0           2  \n",
       "253679            0             1    0       0       0           1  \n",
       "\n",
       "[229781 rows x 18 columns]"
      ]
     },
     "execution_count": 30,
     "metadata": {},
     "output_type": "execute_result"
    }
   ],
   "source": [
    "df[final_features]"
   ]
  },
  {
   "cell_type": "markdown",
   "metadata": {
    "id": "iRUs797MIiZp"
   },
   "source": [
    "\n",
    "\n",
    "### Encode any categorical data. Ensure that categorical variables are represented correctly.\n",
    "### Normalize numeric data."
   ]
  },
  {
   "cell_type": "code",
   "execution_count": 31,
   "metadata": {
    "id": "eBjW7XKtIfY8"
   },
   "outputs": [],
   "source": [
    "data = df[final_features]"
   ]
  },
  {
   "cell_type": "code",
   "execution_count": 32,
   "metadata": {
    "colab": {
     "base_uri": "https://localhost:8080/",
     "height": 226
    },
    "id": "yusI350cPVhH",
    "outputId": "b00b7bed-db28-40f3-c428-ce169fe6e8b9"
   },
   "outputs": [
    {
     "data": {
      "text/html": [
       "<div>\n",
       "<style scoped>\n",
       "    .dataframe tbody tr th:only-of-type {\n",
       "        vertical-align: middle;\n",
       "    }\n",
       "\n",
       "    .dataframe tbody tr th {\n",
       "        vertical-align: top;\n",
       "    }\n",
       "\n",
       "    .dataframe thead th {\n",
       "        text-align: right;\n",
       "    }\n",
       "</style>\n",
       "<table border=\"1\" class=\"dataframe\">\n",
       "  <thead>\n",
       "    <tr style=\"text-align: right;\">\n",
       "      <th></th>\n",
       "      <th>BMI</th>\n",
       "      <th>Age</th>\n",
       "      <th>PhysHlth</th>\n",
       "      <th>Income</th>\n",
       "      <th>Diabetes_012</th>\n",
       "      <th>MentHlth</th>\n",
       "      <th>CholCheck</th>\n",
       "      <th>DiffWalk</th>\n",
       "      <th>HeartDiseaseorAttack</th>\n",
       "      <th>HighBP</th>\n",
       "      <th>HighChol</th>\n",
       "      <th>HvyAlcoholConsump</th>\n",
       "      <th>NoDocbcCost</th>\n",
       "      <th>PhysActivity</th>\n",
       "      <th>Sex</th>\n",
       "      <th>Smoker</th>\n",
       "      <th>Stroke</th>\n",
       "      <th>DietIntake</th>\n",
       "    </tr>\n",
       "  </thead>\n",
       "  <tbody>\n",
       "    <tr>\n",
       "      <th>0</th>\n",
       "      <td>40.0</td>\n",
       "      <td>9</td>\n",
       "      <td>15.0</td>\n",
       "      <td>3</td>\n",
       "      <td>0</td>\n",
       "      <td>18.0</td>\n",
       "      <td>1</td>\n",
       "      <td>1</td>\n",
       "      <td>0</td>\n",
       "      <td>1</td>\n",
       "      <td>1</td>\n",
       "      <td>0</td>\n",
       "      <td>0</td>\n",
       "      <td>0</td>\n",
       "      <td>0</td>\n",
       "      <td>1</td>\n",
       "      <td>0</td>\n",
       "      <td>1</td>\n",
       "    </tr>\n",
       "    <tr>\n",
       "      <th>1</th>\n",
       "      <td>25.0</td>\n",
       "      <td>7</td>\n",
       "      <td>0.0</td>\n",
       "      <td>1</td>\n",
       "      <td>0</td>\n",
       "      <td>0.0</td>\n",
       "      <td>0</td>\n",
       "      <td>0</td>\n",
       "      <td>0</td>\n",
       "      <td>0</td>\n",
       "      <td>0</td>\n",
       "      <td>0</td>\n",
       "      <td>1</td>\n",
       "      <td>1</td>\n",
       "      <td>0</td>\n",
       "      <td>1</td>\n",
       "      <td>0</td>\n",
       "      <td>0</td>\n",
       "    </tr>\n",
       "    <tr>\n",
       "      <th>2</th>\n",
       "      <td>28.0</td>\n",
       "      <td>9</td>\n",
       "      <td>30.0</td>\n",
       "      <td>8</td>\n",
       "      <td>0</td>\n",
       "      <td>30.0</td>\n",
       "      <td>1</td>\n",
       "      <td>1</td>\n",
       "      <td>0</td>\n",
       "      <td>1</td>\n",
       "      <td>1</td>\n",
       "      <td>0</td>\n",
       "      <td>1</td>\n",
       "      <td>0</td>\n",
       "      <td>0</td>\n",
       "      <td>0</td>\n",
       "      <td>0</td>\n",
       "      <td>1</td>\n",
       "    </tr>\n",
       "    <tr>\n",
       "      <th>3</th>\n",
       "      <td>27.0</td>\n",
       "      <td>11</td>\n",
       "      <td>0.0</td>\n",
       "      <td>6</td>\n",
       "      <td>0</td>\n",
       "      <td>0.0</td>\n",
       "      <td>1</td>\n",
       "      <td>0</td>\n",
       "      <td>0</td>\n",
       "      <td>1</td>\n",
       "      <td>0</td>\n",
       "      <td>0</td>\n",
       "      <td>0</td>\n",
       "      <td>1</td>\n",
       "      <td>0</td>\n",
       "      <td>0</td>\n",
       "      <td>0</td>\n",
       "      <td>2</td>\n",
       "    </tr>\n",
       "    <tr>\n",
       "      <th>4</th>\n",
       "      <td>24.0</td>\n",
       "      <td>11</td>\n",
       "      <td>0.0</td>\n",
       "      <td>4</td>\n",
       "      <td>0</td>\n",
       "      <td>3.0</td>\n",
       "      <td>1</td>\n",
       "      <td>0</td>\n",
       "      <td>0</td>\n",
       "      <td>1</td>\n",
       "      <td>1</td>\n",
       "      <td>0</td>\n",
       "      <td>0</td>\n",
       "      <td>1</td>\n",
       "      <td>0</td>\n",
       "      <td>0</td>\n",
       "      <td>0</td>\n",
       "      <td>2</td>\n",
       "    </tr>\n",
       "  </tbody>\n",
       "</table>\n",
       "</div>"
      ],
      "text/plain": [
       "    BMI Age  PhysHlth Income Diabetes_012  MentHlth  CholCheck  DiffWalk  \\\n",
       "0  40.0   9      15.0      3            0      18.0          1         1   \n",
       "1  25.0   7       0.0      1            0       0.0          0         0   \n",
       "2  28.0   9      30.0      8            0      30.0          1         1   \n",
       "3  27.0  11       0.0      6            0       0.0          1         0   \n",
       "4  24.0  11       0.0      4            0       3.0          1         0   \n",
       "\n",
       "   HeartDiseaseorAttack  HighBP  HighChol  HvyAlcoholConsump  NoDocbcCost  \\\n",
       "0                     0       1         1                  0            0   \n",
       "1                     0       0         0                  0            1   \n",
       "2                     0       1         1                  0            1   \n",
       "3                     0       1         0                  0            0   \n",
       "4                     0       1         1                  0            0   \n",
       "\n",
       "   PhysActivity  Sex  Smoker  Stroke  DietIntake  \n",
       "0             0    0       1       0           1  \n",
       "1             1    0       1       0           0  \n",
       "2             0    0       0       0           1  \n",
       "3             1    0       0       0           2  \n",
       "4             1    0       0       0           2  "
      ]
     },
     "execution_count": 32,
     "metadata": {},
     "output_type": "execute_result"
    }
   ],
   "source": [
    "data.head()"
   ]
  },
  {
   "cell_type": "code",
   "execution_count": 33,
   "metadata": {
    "colab": {
     "base_uri": "https://localhost:8080/"
    },
    "id": "dTCBYsJzR-sf",
    "outputId": "f2e12c7f-2833-4bb0-850a-cde00c01eca4"
   },
   "outputs": [
    {
     "data": {
      "text/plain": [
       "BMI                      float64\n",
       "Age                     category\n",
       "PhysHlth                 float64\n",
       "Income                  category\n",
       "Diabetes_012            category\n",
       "MentHlth                 float64\n",
       "CholCheck                  int64\n",
       "DiffWalk                   int64\n",
       "HeartDiseaseorAttack       int64\n",
       "HighBP                     int64\n",
       "HighChol                   int64\n",
       "HvyAlcoholConsump          int64\n",
       "NoDocbcCost                int64\n",
       "PhysActivity               int64\n",
       "Sex                        int64\n",
       "Smoker                     int64\n",
       "Stroke                     int64\n",
       "DietIntake                 int64\n",
       "dtype: object"
      ]
     },
     "execution_count": 33,
     "metadata": {},
     "output_type": "execute_result"
    }
   ],
   "source": [
    "data.dtypes"
   ]
  },
  {
   "cell_type": "code",
   "execution_count": 34,
   "metadata": {
    "id": "1GIs5NX-NU9y"
   },
   "outputs": [],
   "source": [
    "from sklearn.model_selection import train_test_split\n",
    "from sklearn.preprocessing import StandardScaler, OneHotEncoder\n",
    "from sklearn.compose import ColumnTransformer\n",
    "from imblearn.over_sampling import SMOTE\n",
    "from imblearn.pipeline import Pipeline as ImblearnPipeline\n",
    "\n",
    "# Load and prepare the data\n",
    "X = data.drop('Diabetes_012', axis=1)\n",
    "y = data['Diabetes_012']\n",
    "# Split the data into training and testing sets\n",
    "X_train, X_test, y_train, y_test = train_test_split(X, y, test_size=0.3, random_state=42, stratify=y)\n",
    "\n",
    "# Specify the numeric, binary, and categorical features\n",
    "numeric_features = ['BMI', 'PhysHlth']\n",
    "binary_features = ['CholCheck', 'DiffWalk', 'HeartDiseaseorAttack', 'HighBP', 'HighChol', 'HvyAlcoholConsump', 'NoDocbcCost', 'PhysActivity', 'Sex', 'Smoker', 'Stroke', 'DietIntake']\n",
    "categorical_features = ['Age', 'Income']\n",
    "\n",
    "# Create a column transformer for preprocessing\n",
    "preprocessor = ColumnTransformer(\n",
    "    transformers=[\n",
    "        ('num', StandardScaler(), numeric_features),\n",
    "        ('cat', OneHotEncoder(), categorical_features),\n",
    "        ('bin', 'passthrough', binary_features)  # Passthrough binary features\n",
    "    ])\n",
    "\n"
   ]
  },
  {
   "cell_type": "code",
   "execution_count": null,
   "metadata": {
    "colab": {
     "base_uri": "https://localhost:8080/"
    },
    "id": "1QJFOs7nUO0H",
    "outputId": "514f79df-749f-4dcb-83df-75227fbb06c9"
   },
   "outputs": [],
   "source": []
  },
  {
   "cell_type": "markdown",
   "metadata": {
    "id": "cbhGU-wHXIML"
   },
   "source": [
    "### Random Forest Classifier"
   ]
  },
  {
   "cell_type": "code",
   "execution_count": 35,
   "metadata": {
    "id": "5Uyhukkb4QkC"
   },
   "outputs": [],
   "source": [
    "from sklearn.model_selection import GridSearchCV\n",
    "from sklearn.ensemble import RandomForestClassifier\n",
    "from sklearn.neighbors import KNeighborsClassifier\n",
    "from sklearn.pipeline import Pipeline\n"
   ]
  },
  {
   "cell_type": "code",
   "execution_count": 36,
   "metadata": {
    "colab": {
     "base_uri": "https://localhost:8080/",
     "height": 298
    },
    "id": "-QBUSqoiUX9S",
    "outputId": "c86d9231-64df-4424-c928-c4e54b398ac8"
   },
   "outputs": [
    {
     "name": "stdout",
     "output_type": "stream",
     "text": [
      "Fitting 3 folds for each of 4 candidates, totalling 12 fits\n"
     ]
    },
    {
     "data": {
      "text/html": [
       "<style>#sk-container-id-1 {color: black;background-color: white;}#sk-container-id-1 pre{padding: 0;}#sk-container-id-1 div.sk-toggleable {background-color: white;}#sk-container-id-1 label.sk-toggleable__label {cursor: pointer;display: block;width: 100%;margin-bottom: 0;padding: 0.3em;box-sizing: border-box;text-align: center;}#sk-container-id-1 label.sk-toggleable__label-arrow:before {content: \"▸\";float: left;margin-right: 0.25em;color: #696969;}#sk-container-id-1 label.sk-toggleable__label-arrow:hover:before {color: black;}#sk-container-id-1 div.sk-estimator:hover label.sk-toggleable__label-arrow:before {color: black;}#sk-container-id-1 div.sk-toggleable__content {max-height: 0;max-width: 0;overflow: hidden;text-align: left;background-color: #f0f8ff;}#sk-container-id-1 div.sk-toggleable__content pre {margin: 0.2em;color: black;border-radius: 0.25em;background-color: #f0f8ff;}#sk-container-id-1 input.sk-toggleable__control:checked~div.sk-toggleable__content {max-height: 200px;max-width: 100%;overflow: auto;}#sk-container-id-1 input.sk-toggleable__control:checked~label.sk-toggleable__label-arrow:before {content: \"▾\";}#sk-container-id-1 div.sk-estimator input.sk-toggleable__control:checked~label.sk-toggleable__label {background-color: #d4ebff;}#sk-container-id-1 div.sk-label input.sk-toggleable__control:checked~label.sk-toggleable__label {background-color: #d4ebff;}#sk-container-id-1 input.sk-hidden--visually {border: 0;clip: rect(1px 1px 1px 1px);clip: rect(1px, 1px, 1px, 1px);height: 1px;margin: -1px;overflow: hidden;padding: 0;position: absolute;width: 1px;}#sk-container-id-1 div.sk-estimator {font-family: monospace;background-color: #f0f8ff;border: 1px dotted black;border-radius: 0.25em;box-sizing: border-box;margin-bottom: 0.5em;}#sk-container-id-1 div.sk-estimator:hover {background-color: #d4ebff;}#sk-container-id-1 div.sk-parallel-item::after {content: \"\";width: 100%;border-bottom: 1px solid gray;flex-grow: 1;}#sk-container-id-1 div.sk-label:hover label.sk-toggleable__label {background-color: #d4ebff;}#sk-container-id-1 div.sk-serial::before {content: \"\";position: absolute;border-left: 1px solid gray;box-sizing: border-box;top: 0;bottom: 0;left: 50%;z-index: 0;}#sk-container-id-1 div.sk-serial {display: flex;flex-direction: column;align-items: center;background-color: white;padding-right: 0.2em;padding-left: 0.2em;position: relative;}#sk-container-id-1 div.sk-item {position: relative;z-index: 1;}#sk-container-id-1 div.sk-parallel {display: flex;align-items: stretch;justify-content: center;background-color: white;position: relative;}#sk-container-id-1 div.sk-item::before, #sk-container-id-1 div.sk-parallel-item::before {content: \"\";position: absolute;border-left: 1px solid gray;box-sizing: border-box;top: 0;bottom: 0;left: 50%;z-index: -1;}#sk-container-id-1 div.sk-parallel-item {display: flex;flex-direction: column;z-index: 1;position: relative;background-color: white;}#sk-container-id-1 div.sk-parallel-item:first-child::after {align-self: flex-end;width: 50%;}#sk-container-id-1 div.sk-parallel-item:last-child::after {align-self: flex-start;width: 50%;}#sk-container-id-1 div.sk-parallel-item:only-child::after {width: 0;}#sk-container-id-1 div.sk-dashed-wrapped {border: 1px dashed gray;margin: 0 0.4em 0.5em 0.4em;box-sizing: border-box;padding-bottom: 0.4em;background-color: white;}#sk-container-id-1 div.sk-label label {font-family: monospace;font-weight: bold;display: inline-block;line-height: 1.2em;}#sk-container-id-1 div.sk-label-container {text-align: center;}#sk-container-id-1 div.sk-container {/* jupyter's `normalize.less` sets `[hidden] { display: none; }` but bootstrap.min.css set `[hidden] { display: none !important; }` so we also need the `!important` here to be able to override the default hidden behavior on the sphinx rendered scikit-learn.org. See: https://github.com/scikit-learn/scikit-learn/issues/21755 */display: inline-block !important;position: relative;}#sk-container-id-1 div.sk-text-repr-fallback {display: none;}</style><div id=\"sk-container-id-1\" class=\"sk-top-container\"><div class=\"sk-text-repr-fallback\"><pre>GridSearchCV(cv=3, estimator=RandomForestClassifier(random_state=42),\n",
       "             param_grid={&#x27;max_depth&#x27;: [10, 20], &#x27;n_estimators&#x27;: [100, 200]},\n",
       "             verbose=1)</pre><b>In a Jupyter environment, please rerun this cell to show the HTML representation or trust the notebook. <br />On GitHub, the HTML representation is unable to render, please try loading this page with nbviewer.org.</b></div><div class=\"sk-container\" hidden><div class=\"sk-item sk-dashed-wrapped\"><div class=\"sk-label-container\"><div class=\"sk-label sk-toggleable\"><input class=\"sk-toggleable__control sk-hidden--visually\" id=\"sk-estimator-id-1\" type=\"checkbox\" ><label for=\"sk-estimator-id-1\" class=\"sk-toggleable__label sk-toggleable__label-arrow\">GridSearchCV</label><div class=\"sk-toggleable__content\"><pre>GridSearchCV(cv=3, estimator=RandomForestClassifier(random_state=42),\n",
       "             param_grid={&#x27;max_depth&#x27;: [10, 20], &#x27;n_estimators&#x27;: [100, 200]},\n",
       "             verbose=1)</pre></div></div></div><div class=\"sk-parallel\"><div class=\"sk-parallel-item\"><div class=\"sk-item\"><div class=\"sk-label-container\"><div class=\"sk-label sk-toggleable\"><input class=\"sk-toggleable__control sk-hidden--visually\" id=\"sk-estimator-id-2\" type=\"checkbox\" ><label for=\"sk-estimator-id-2\" class=\"sk-toggleable__label sk-toggleable__label-arrow\">estimator: RandomForestClassifier</label><div class=\"sk-toggleable__content\"><pre>RandomForestClassifier(random_state=42)</pre></div></div></div><div class=\"sk-serial\"><div class=\"sk-item\"><div class=\"sk-estimator sk-toggleable\"><input class=\"sk-toggleable__control sk-hidden--visually\" id=\"sk-estimator-id-3\" type=\"checkbox\" ><label for=\"sk-estimator-id-3\" class=\"sk-toggleable__label sk-toggleable__label-arrow\">RandomForestClassifier</label><div class=\"sk-toggleable__content\"><pre>RandomForestClassifier(random_state=42)</pre></div></div></div></div></div></div></div></div></div></div>"
      ],
      "text/plain": [
       "GridSearchCV(cv=3, estimator=RandomForestClassifier(random_state=42),\n",
       "             param_grid={'max_depth': [10, 20], 'n_estimators': [100, 200]},\n",
       "             verbose=1)"
      ]
     },
     "execution_count": 36,
     "metadata": {},
     "output_type": "execute_result"
    }
   ],
   "source": [
    "\n",
    "model = RandomForestClassifier(random_state=42)\n",
    "param_grid = {'n_estimators': [100, 200], 'max_depth': [10, 20]}\n",
    "grid_search = GridSearchCV(model, param_grid, cv=3, verbose =1)\n",
    "grid_search.fit(X_train, y_train)\n",
    "\n",
    "# # Evaluate the model\n",
    "# predictions = grid_search.predict(X_test)\n",
    "# print(classification_report(y_test, predictions))\n"
   ]
  },
  {
   "cell_type": "code",
   "execution_count": 37,
   "metadata": {
    "colab": {
     "base_uri": "https://localhost:8080/"
    },
    "id": "B300_Bwsn5mv",
    "outputId": "7c996a2a-8565-4467-9c2b-edde54f6ac18"
   },
   "outputs": [
    {
     "name": "stdout",
     "output_type": "stream",
     "text": [
      "              precision    recall  f1-score   support\n",
      "\n",
      "           0       0.84      0.99      0.91     57017\n",
      "           1       0.00      0.00      0.00      1389\n",
      "           2       0.61      0.11      0.18     10529\n",
      "\n",
      "    accuracy                           0.83     68935\n",
      "   macro avg       0.48      0.36      0.36     68935\n",
      "weighted avg       0.79      0.83      0.78     68935\n",
      "\n"
     ]
    },
    {
     "name": "stderr",
     "output_type": "stream",
     "text": [
      "C:\\Users\\navee\\anaconda3\\Lib\\site-packages\\sklearn\\metrics\\_classification.py:1344: UndefinedMetricWarning: Precision and F-score are ill-defined and being set to 0.0 in labels with no predicted samples. Use `zero_division` parameter to control this behavior.\n",
      "  _warn_prf(average, modifier, msg_start, len(result))\n",
      "C:\\Users\\navee\\anaconda3\\Lib\\site-packages\\sklearn\\metrics\\_classification.py:1344: UndefinedMetricWarning: Precision and F-score are ill-defined and being set to 0.0 in labels with no predicted samples. Use `zero_division` parameter to control this behavior.\n",
      "  _warn_prf(average, modifier, msg_start, len(result))\n",
      "C:\\Users\\navee\\anaconda3\\Lib\\site-packages\\sklearn\\metrics\\_classification.py:1344: UndefinedMetricWarning: Precision and F-score are ill-defined and being set to 0.0 in labels with no predicted samples. Use `zero_division` parameter to control this behavior.\n",
      "  _warn_prf(average, modifier, msg_start, len(result))\n"
     ]
    }
   ],
   "source": [
    "\n",
    "\n",
    "# Now use the best estimator from the grid search to make predictions\n",
    "predictions = grid_search.predict(X_test)\n",
    "\n",
    "# Evaluation\n",
    "print(classification_report(y_test, predictions))\n"
   ]
  },
  {
   "cell_type": "code",
   "execution_count": 38,
   "metadata": {
    "id": "xTBq1X5-9czL"
   },
   "outputs": [],
   "source": [
    "best_model_rf = grid_search.best_estimator_\n",
    "best_score_rf = grid_search.best_score_\n",
    "best_params = grid_search.best_params_\n",
    "cv_results = pd.DataFrame(grid_search.cv_results_)"
   ]
  },
  {
   "cell_type": "code",
   "execution_count": 39,
   "metadata": {
    "colab": {
     "base_uri": "https://localhost:8080/",
     "height": 264
    },
    "id": "6bMa6jpO96l6",
    "outputId": "b9ea53aa-fd20-40a5-af24-04fc6c812f3c"
   },
   "outputs": [
    {
     "name": "stdout",
     "output_type": "stream",
     "text": [
      "Best Model: RandomForestClassifier(max_depth=10, n_estimators=200, random_state=42)\n",
      "Best Score: 0.833\n",
      "Best Params: {'max_depth': 10, 'n_estimators': 200}\n",
      "CV Results\n"
     ]
    },
    {
     "data": {
      "text/html": [
       "<div>\n",
       "<style scoped>\n",
       "    .dataframe tbody tr th:only-of-type {\n",
       "        vertical-align: middle;\n",
       "    }\n",
       "\n",
       "    .dataframe tbody tr th {\n",
       "        vertical-align: top;\n",
       "    }\n",
       "\n",
       "    .dataframe thead th {\n",
       "        text-align: right;\n",
       "    }\n",
       "</style>\n",
       "<table border=\"1\" class=\"dataframe\">\n",
       "  <thead>\n",
       "    <tr style=\"text-align: right;\">\n",
       "      <th></th>\n",
       "      <th>param_n_estimators</th>\n",
       "      <th>param_max_depth</th>\n",
       "      <th>mean_test_score</th>\n",
       "      <th>std_test_score</th>\n",
       "      <th>rank_test_score</th>\n",
       "    </tr>\n",
       "  </thead>\n",
       "  <tbody>\n",
       "    <tr>\n",
       "      <th>0</th>\n",
       "      <td>100</td>\n",
       "      <td>10</td>\n",
       "      <td>0.833095</td>\n",
       "      <td>0.000555</td>\n",
       "      <td>2</td>\n",
       "    </tr>\n",
       "    <tr>\n",
       "      <th>1</th>\n",
       "      <td>200</td>\n",
       "      <td>10</td>\n",
       "      <td>0.833170</td>\n",
       "      <td>0.000584</td>\n",
       "      <td>1</td>\n",
       "    </tr>\n",
       "    <tr>\n",
       "      <th>2</th>\n",
       "      <td>100</td>\n",
       "      <td>20</td>\n",
       "      <td>0.828426</td>\n",
       "      <td>0.000355</td>\n",
       "      <td>4</td>\n",
       "    </tr>\n",
       "    <tr>\n",
       "      <th>3</th>\n",
       "      <td>200</td>\n",
       "      <td>20</td>\n",
       "      <td>0.829166</td>\n",
       "      <td>0.000562</td>\n",
       "      <td>3</td>\n",
       "    </tr>\n",
       "  </tbody>\n",
       "</table>\n",
       "</div>"
      ],
      "text/plain": [
       "  param_n_estimators param_max_depth  mean_test_score  std_test_score  \\\n",
       "0                100              10         0.833095        0.000555   \n",
       "1                200              10         0.833170        0.000584   \n",
       "2                100              20         0.828426        0.000355   \n",
       "3                200              20         0.829166        0.000562   \n",
       "\n",
       "   rank_test_score  \n",
       "0                2  \n",
       "1                1  \n",
       "2                4  \n",
       "3                3  "
      ]
     },
     "metadata": {},
     "output_type": "display_data"
    },
    {
     "data": {
      "text/plain": [
       "None"
      ]
     },
     "metadata": {},
     "output_type": "display_data"
    }
   ],
   "source": [
    "print('Best Model:', best_model_rf)\n",
    "print('Best Score:', round(best_score_rf,3))\n",
    "print('Best Params:', best_params)\n",
    "print('CV Results')\n",
    "display(display(cv_results[['param_n_estimators', 'param_max_depth', 'mean_test_score', 'std_test_score', 'rank_test_score']]))"
   ]
  },
  {
   "cell_type": "markdown",
   "metadata": {
    "id": "iM-z0HkdwJWw"
   },
   "source": [
    "### KNeighborsClassifier"
   ]
  },
  {
   "cell_type": "code",
   "execution_count": 40,
   "metadata": {
    "id": "T2LEjpMF_Qi8"
   },
   "outputs": [],
   "source": [
    "import multiprocessing\n",
    "#cuda gpu usage\n",
    "n_jobs = multiprocessing.cpu_count()"
   ]
  },
  {
   "cell_type": "code",
   "execution_count": null,
   "metadata": {},
   "outputs": [],
   "source": []
  },
  {
   "cell_type": "code",
   "execution_count": 41,
   "metadata": {
    "id": "1NIUZRto_UXA"
   },
   "outputs": [],
   "source": [
    "import warnings"
   ]
  },
  {
   "cell_type": "code",
   "execution_count": 42,
   "metadata": {
    "colab": {
     "base_uri": "https://localhost:8080/",
     "height": 386
    },
    "id": "xSMUF9dIvS6l",
    "outputId": "6dd812ca-499f-49a7-c163-3dc3400002e4"
   },
   "outputs": [
    {
     "name": "stderr",
     "output_type": "stream",
     "text": [
      "C:\\Users\\navee\\anaconda3\\Lib\\site-packages\\sklearn\\model_selection\\_search.py:952: UserWarning: One or more of the test scores are non-finite: [nan nan nan nan]\n",
      "  warnings.warn(\n"
     ]
    },
    {
     "name": "stdout",
     "output_type": "stream",
     "text": [
      "              precision    recall  f1-score   support\n",
      "\n",
      "           0       0.84      0.99      0.91     57017\n",
      "           1       0.00      0.00      0.00      1389\n",
      "           2       0.61      0.11      0.18     10529\n",
      "\n",
      "    accuracy                           0.83     68935\n",
      "   macro avg       0.48      0.36      0.36     68935\n",
      "weighted avg       0.79      0.83      0.78     68935\n",
      "\n"
     ]
    },
    {
     "name": "stderr",
     "output_type": "stream",
     "text": [
      "C:\\Users\\navee\\anaconda3\\Lib\\site-packages\\sklearn\\metrics\\_classification.py:1344: UndefinedMetricWarning: Precision and F-score are ill-defined and being set to 0.0 in labels with no predicted samples. Use `zero_division` parameter to control this behavior.\n",
      "  _warn_prf(average, modifier, msg_start, len(result))\n",
      "C:\\Users\\navee\\anaconda3\\Lib\\site-packages\\sklearn\\metrics\\_classification.py:1344: UndefinedMetricWarning: Precision and F-score are ill-defined and being set to 0.0 in labels with no predicted samples. Use `zero_division` parameter to control this behavior.\n",
      "  _warn_prf(average, modifier, msg_start, len(result))\n",
      "C:\\Users\\navee\\anaconda3\\Lib\\site-packages\\sklearn\\metrics\\_classification.py:1344: UndefinedMetricWarning: Precision and F-score are ill-defined and being set to 0.0 in labels with no predicted samples. Use `zero_division` parameter to control this behavior.\n",
      "  _warn_prf(average, modifier, msg_start, len(result))\n"
     ]
    }
   ],
   "source": [
    "from sklearn.neighbors import KNeighborsClassifier\n",
    "from sklearn.model_selection import GridSearchCV\n",
    "from sklearn.metrics import classification_report\n",
    "import numpy as np\n",
    "\n",
    "# Assuming X_train, X_test, y_train, y_test are already defined and are NumPy arrays\n",
    "X_train_np = np.asarray(X_train)\n",
    "X_test_np = np.asarray(X_test)\n",
    "y_train_np = np.asarray(y_train)\n",
    "y_test_np = np.asarray(y_test)\n",
    "\n",
    "# Define the model and parameter grid for KNN\n",
    "knn = KNeighborsClassifier()\n",
    "param_grid_knn = {\n",
    "    'n_neighbors': [3, 5],\n",
    "    'weights': ['uniform', 'distance']\n",
    "}\n",
    "\n",
    "# Setup GridSearchCV\n",
    "grid_knn = GridSearchCV(knn, param_grid_knn, cv=3, scoring='accuracy', n_jobs=-1)\n",
    "\n",
    "# Fit GridSearchCV with the training data\n",
    "grid_knn.fit(X_train_np, y_train_np)\n",
    "\n",
    "# Evaluate the performance\n",
    "print(classification_report(y_test_np, predictions))\n"
   ]
  },
  {
   "cell_type": "code",
   "execution_count": 43,
   "metadata": {
    "id": "s8q4wC9PNaR-"
   },
   "outputs": [],
   "source": [
    "best_model_knn = grid_knn.best_estimator_\n",
    "best_score_knn = grid_knn.best_score_\n",
    "best_params_knn = grid_knn.best_params_\n",
    "cv_results_knn = pd.DataFrame(grid_knn.cv_results_)"
   ]
  },
  {
   "cell_type": "code",
   "execution_count": 44,
   "metadata": {
    "colab": {
     "base_uri": "https://localhost:8080/",
     "height": 264
    },
    "id": "PCzWY6MsN444",
    "outputId": "5bc48efa-a64e-49c1-f279-d9399a34c073"
   },
   "outputs": [
    {
     "name": "stdout",
     "output_type": "stream",
     "text": [
      "Best Model: KNeighborsClassifier(n_neighbors=3)\n",
      "Best Score: nan\n",
      "Best Params: {'n_neighbors': 3, 'weights': 'uniform'}\n",
      "CV Results\n"
     ]
    },
    {
     "data": {
      "text/html": [
       "<div>\n",
       "<style scoped>\n",
       "    .dataframe tbody tr th:only-of-type {\n",
       "        vertical-align: middle;\n",
       "    }\n",
       "\n",
       "    .dataframe tbody tr th {\n",
       "        vertical-align: top;\n",
       "    }\n",
       "\n",
       "    .dataframe thead th {\n",
       "        text-align: right;\n",
       "    }\n",
       "</style>\n",
       "<table border=\"1\" class=\"dataframe\">\n",
       "  <thead>\n",
       "    <tr style=\"text-align: right;\">\n",
       "      <th></th>\n",
       "      <th>param_n_neighbors</th>\n",
       "      <th>param_weights</th>\n",
       "      <th>mean_test_score</th>\n",
       "      <th>std_test_score</th>\n",
       "    </tr>\n",
       "  </thead>\n",
       "  <tbody>\n",
       "    <tr>\n",
       "      <th>0</th>\n",
       "      <td>3</td>\n",
       "      <td>uniform</td>\n",
       "      <td>NaN</td>\n",
       "      <td>NaN</td>\n",
       "    </tr>\n",
       "    <tr>\n",
       "      <th>1</th>\n",
       "      <td>3</td>\n",
       "      <td>distance</td>\n",
       "      <td>NaN</td>\n",
       "      <td>NaN</td>\n",
       "    </tr>\n",
       "    <tr>\n",
       "      <th>2</th>\n",
       "      <td>5</td>\n",
       "      <td>uniform</td>\n",
       "      <td>NaN</td>\n",
       "      <td>NaN</td>\n",
       "    </tr>\n",
       "    <tr>\n",
       "      <th>3</th>\n",
       "      <td>5</td>\n",
       "      <td>distance</td>\n",
       "      <td>NaN</td>\n",
       "      <td>NaN</td>\n",
       "    </tr>\n",
       "  </tbody>\n",
       "</table>\n",
       "</div>"
      ],
      "text/plain": [
       "  param_n_neighbors param_weights  mean_test_score  std_test_score\n",
       "0                 3       uniform              NaN             NaN\n",
       "1                 3      distance              NaN             NaN\n",
       "2                 5       uniform              NaN             NaN\n",
       "3                 5      distance              NaN             NaN"
      ]
     },
     "metadata": {},
     "output_type": "display_data"
    },
    {
     "data": {
      "text/plain": [
       "None"
      ]
     },
     "metadata": {},
     "output_type": "display_data"
    }
   ],
   "source": [
    "print('Best Model:', best_model_knn)\n",
    "print('Best Score:', round(best_score_knn,3))\n",
    "print('Best Params:', best_params_knn)\n",
    "print('CV Results')\n",
    "display(display(cv_results_knn[['param_n_neighbors', 'param_weights', 'mean_test_score', 'std_test_score']]))"
   ]
  },
  {
   "cell_type": "markdown",
   "metadata": {
    "id": "tBlN63tkQ1e3"
   },
   "source": [
    "### Multinomial Logistic Regression"
   ]
  },
  {
   "cell_type": "code",
   "execution_count": 45,
   "metadata": {
    "colab": {
     "base_uri": "https://localhost:8080/",
     "height": 118
    },
    "id": "059p8eu0Q0hm",
    "outputId": "7f93eede-0bec-4831-a087-f88f90e00e8b"
   },
   "outputs": [
    {
     "name": "stderr",
     "output_type": "stream",
     "text": [
      "C:\\Users\\navee\\anaconda3\\Lib\\site-packages\\sklearn\\linear_model\\_logistic.py:458: ConvergenceWarning: lbfgs failed to converge (status=1):\n",
      "STOP: TOTAL NO. of ITERATIONS REACHED LIMIT.\n",
      "\n",
      "Increase the number of iterations (max_iter) or scale the data as shown in:\n",
      "    https://scikit-learn.org/stable/modules/preprocessing.html\n",
      "Please also refer to the documentation for alternative solver options:\n",
      "    https://scikit-learn.org/stable/modules/linear_model.html#logistic-regression\n",
      "  n_iter_i = _check_optimize_result(\n",
      "C:\\Users\\navee\\anaconda3\\Lib\\site-packages\\sklearn\\linear_model\\_logistic.py:458: ConvergenceWarning: lbfgs failed to converge (status=1):\n",
      "STOP: TOTAL NO. of ITERATIONS REACHED LIMIT.\n",
      "\n",
      "Increase the number of iterations (max_iter) or scale the data as shown in:\n",
      "    https://scikit-learn.org/stable/modules/preprocessing.html\n",
      "Please also refer to the documentation for alternative solver options:\n",
      "    https://scikit-learn.org/stable/modules/linear_model.html#logistic-regression\n",
      "  n_iter_i = _check_optimize_result(\n",
      "C:\\Users\\navee\\anaconda3\\Lib\\site-packages\\sklearn\\linear_model\\_logistic.py:458: ConvergenceWarning: lbfgs failed to converge (status=1):\n",
      "STOP: TOTAL NO. of ITERATIONS REACHED LIMIT.\n",
      "\n",
      "Increase the number of iterations (max_iter) or scale the data as shown in:\n",
      "    https://scikit-learn.org/stable/modules/preprocessing.html\n",
      "Please also refer to the documentation for alternative solver options:\n",
      "    https://scikit-learn.org/stable/modules/linear_model.html#logistic-regression\n",
      "  n_iter_i = _check_optimize_result(\n",
      "C:\\Users\\navee\\anaconda3\\Lib\\site-packages\\sklearn\\linear_model\\_logistic.py:458: ConvergenceWarning: lbfgs failed to converge (status=1):\n",
      "STOP: TOTAL NO. of ITERATIONS REACHED LIMIT.\n",
      "\n",
      "Increase the number of iterations (max_iter) or scale the data as shown in:\n",
      "    https://scikit-learn.org/stable/modules/preprocessing.html\n",
      "Please also refer to the documentation for alternative solver options:\n",
      "    https://scikit-learn.org/stable/modules/linear_model.html#logistic-regression\n",
      "  n_iter_i = _check_optimize_result(\n"
     ]
    },
    {
     "data": {
      "text/html": [
       "<style>#sk-container-id-2 {color: black;background-color: white;}#sk-container-id-2 pre{padding: 0;}#sk-container-id-2 div.sk-toggleable {background-color: white;}#sk-container-id-2 label.sk-toggleable__label {cursor: pointer;display: block;width: 100%;margin-bottom: 0;padding: 0.3em;box-sizing: border-box;text-align: center;}#sk-container-id-2 label.sk-toggleable__label-arrow:before {content: \"▸\";float: left;margin-right: 0.25em;color: #696969;}#sk-container-id-2 label.sk-toggleable__label-arrow:hover:before {color: black;}#sk-container-id-2 div.sk-estimator:hover label.sk-toggleable__label-arrow:before {color: black;}#sk-container-id-2 div.sk-toggleable__content {max-height: 0;max-width: 0;overflow: hidden;text-align: left;background-color: #f0f8ff;}#sk-container-id-2 div.sk-toggleable__content pre {margin: 0.2em;color: black;border-radius: 0.25em;background-color: #f0f8ff;}#sk-container-id-2 input.sk-toggleable__control:checked~div.sk-toggleable__content {max-height: 200px;max-width: 100%;overflow: auto;}#sk-container-id-2 input.sk-toggleable__control:checked~label.sk-toggleable__label-arrow:before {content: \"▾\";}#sk-container-id-2 div.sk-estimator input.sk-toggleable__control:checked~label.sk-toggleable__label {background-color: #d4ebff;}#sk-container-id-2 div.sk-label input.sk-toggleable__control:checked~label.sk-toggleable__label {background-color: #d4ebff;}#sk-container-id-2 input.sk-hidden--visually {border: 0;clip: rect(1px 1px 1px 1px);clip: rect(1px, 1px, 1px, 1px);height: 1px;margin: -1px;overflow: hidden;padding: 0;position: absolute;width: 1px;}#sk-container-id-2 div.sk-estimator {font-family: monospace;background-color: #f0f8ff;border: 1px dotted black;border-radius: 0.25em;box-sizing: border-box;margin-bottom: 0.5em;}#sk-container-id-2 div.sk-estimator:hover {background-color: #d4ebff;}#sk-container-id-2 div.sk-parallel-item::after {content: \"\";width: 100%;border-bottom: 1px solid gray;flex-grow: 1;}#sk-container-id-2 div.sk-label:hover label.sk-toggleable__label {background-color: #d4ebff;}#sk-container-id-2 div.sk-serial::before {content: \"\";position: absolute;border-left: 1px solid gray;box-sizing: border-box;top: 0;bottom: 0;left: 50%;z-index: 0;}#sk-container-id-2 div.sk-serial {display: flex;flex-direction: column;align-items: center;background-color: white;padding-right: 0.2em;padding-left: 0.2em;position: relative;}#sk-container-id-2 div.sk-item {position: relative;z-index: 1;}#sk-container-id-2 div.sk-parallel {display: flex;align-items: stretch;justify-content: center;background-color: white;position: relative;}#sk-container-id-2 div.sk-item::before, #sk-container-id-2 div.sk-parallel-item::before {content: \"\";position: absolute;border-left: 1px solid gray;box-sizing: border-box;top: 0;bottom: 0;left: 50%;z-index: -1;}#sk-container-id-2 div.sk-parallel-item {display: flex;flex-direction: column;z-index: 1;position: relative;background-color: white;}#sk-container-id-2 div.sk-parallel-item:first-child::after {align-self: flex-end;width: 50%;}#sk-container-id-2 div.sk-parallel-item:last-child::after {align-self: flex-start;width: 50%;}#sk-container-id-2 div.sk-parallel-item:only-child::after {width: 0;}#sk-container-id-2 div.sk-dashed-wrapped {border: 1px dashed gray;margin: 0 0.4em 0.5em 0.4em;box-sizing: border-box;padding-bottom: 0.4em;background-color: white;}#sk-container-id-2 div.sk-label label {font-family: monospace;font-weight: bold;display: inline-block;line-height: 1.2em;}#sk-container-id-2 div.sk-label-container {text-align: center;}#sk-container-id-2 div.sk-container {/* jupyter's `normalize.less` sets `[hidden] { display: none; }` but bootstrap.min.css set `[hidden] { display: none !important; }` so we also need the `!important` here to be able to override the default hidden behavior on the sphinx rendered scikit-learn.org. See: https://github.com/scikit-learn/scikit-learn/issues/21755 */display: inline-block !important;position: relative;}#sk-container-id-2 div.sk-text-repr-fallback {display: none;}</style><div id=\"sk-container-id-2\" class=\"sk-top-container\"><div class=\"sk-text-repr-fallback\"><pre>GridSearchCV(cv=3,\n",
       "             estimator=LogisticRegression(multi_class=&#x27;multinomial&#x27;,\n",
       "                                          random_state=42),\n",
       "             param_grid={&#x27;C&#x27;: [1, 10], &#x27;max_iter&#x27;: [1000, 1500],\n",
       "                         &#x27;penalty&#x27;: [&#x27;l2&#x27;]},\n",
       "             return_train_score=True, scoring=&#x27;accuracy&#x27;)</pre><b>In a Jupyter environment, please rerun this cell to show the HTML representation or trust the notebook. <br />On GitHub, the HTML representation is unable to render, please try loading this page with nbviewer.org.</b></div><div class=\"sk-container\" hidden><div class=\"sk-item sk-dashed-wrapped\"><div class=\"sk-label-container\"><div class=\"sk-label sk-toggleable\"><input class=\"sk-toggleable__control sk-hidden--visually\" id=\"sk-estimator-id-4\" type=\"checkbox\" ><label for=\"sk-estimator-id-4\" class=\"sk-toggleable__label sk-toggleable__label-arrow\">GridSearchCV</label><div class=\"sk-toggleable__content\"><pre>GridSearchCV(cv=3,\n",
       "             estimator=LogisticRegression(multi_class=&#x27;multinomial&#x27;,\n",
       "                                          random_state=42),\n",
       "             param_grid={&#x27;C&#x27;: [1, 10], &#x27;max_iter&#x27;: [1000, 1500],\n",
       "                         &#x27;penalty&#x27;: [&#x27;l2&#x27;]},\n",
       "             return_train_score=True, scoring=&#x27;accuracy&#x27;)</pre></div></div></div><div class=\"sk-parallel\"><div class=\"sk-parallel-item\"><div class=\"sk-item\"><div class=\"sk-label-container\"><div class=\"sk-label sk-toggleable\"><input class=\"sk-toggleable__control sk-hidden--visually\" id=\"sk-estimator-id-5\" type=\"checkbox\" ><label for=\"sk-estimator-id-5\" class=\"sk-toggleable__label sk-toggleable__label-arrow\">estimator: LogisticRegression</label><div class=\"sk-toggleable__content\"><pre>LogisticRegression(multi_class=&#x27;multinomial&#x27;, random_state=42)</pre></div></div></div><div class=\"sk-serial\"><div class=\"sk-item\"><div class=\"sk-estimator sk-toggleable\"><input class=\"sk-toggleable__control sk-hidden--visually\" id=\"sk-estimator-id-6\" type=\"checkbox\" ><label for=\"sk-estimator-id-6\" class=\"sk-toggleable__label sk-toggleable__label-arrow\">LogisticRegression</label><div class=\"sk-toggleable__content\"><pre>LogisticRegression(multi_class=&#x27;multinomial&#x27;, random_state=42)</pre></div></div></div></div></div></div></div></div></div></div>"
      ],
      "text/plain": [
       "GridSearchCV(cv=3,\n",
       "             estimator=LogisticRegression(multi_class='multinomial',\n",
       "                                          random_state=42),\n",
       "             param_grid={'C': [1, 10], 'max_iter': [1000, 1500],\n",
       "                         'penalty': ['l2']},\n",
       "             return_train_score=True, scoring='accuracy')"
      ]
     },
     "execution_count": 45,
     "metadata": {},
     "output_type": "execute_result"
    }
   ],
   "source": [
    "from sklearn.linear_model import LogisticRegression\n",
    "# Set up the Multinomial Logistic Regression model\n",
    "mlr = LogisticRegression(multi_class='multinomial', solver='lbfgs', random_state=42)\n",
    "param_grid_mlr = {\n",
    "    'C': [1, 10],\n",
    "    'penalty': ['l2'],\n",
    "    'max_iter': [1000, 1500]\n",
    "}\n",
    "\n",
    "# Perform Grid Search\n",
    "grid_mlr = GridSearchCV(mlr, param_grid_mlr, cv=3, scoring='accuracy', return_train_score=True)\n",
    "grid_mlr.fit(X_train, y_train)"
   ]
  },
  {
   "cell_type": "code",
   "execution_count": 46,
   "metadata": {
    "colab": {
     "base_uri": "https://localhost:8080/"
    },
    "id": "i-nKVxYsYgj2",
    "outputId": "7756e9ce-dea4-4d53-b747-a2c25a102faf"
   },
   "outputs": [
    {
     "name": "stdout",
     "output_type": "stream",
     "text": [
      "              precision    recall  f1-score   support\n",
      "\n",
      "           0       0.84      0.98      0.91     57017\n",
      "           1       0.00      0.00      0.00      1389\n",
      "           2       0.54      0.14      0.22     10529\n",
      "\n",
      "    accuracy                           0.83     68935\n",
      "   macro avg       0.46      0.37      0.38     68935\n",
      "weighted avg       0.78      0.83      0.78     68935\n",
      "\n"
     ]
    },
    {
     "name": "stderr",
     "output_type": "stream",
     "text": [
      "C:\\Users\\navee\\anaconda3\\Lib\\site-packages\\sklearn\\metrics\\_classification.py:1344: UndefinedMetricWarning: Precision and F-score are ill-defined and being set to 0.0 in labels with no predicted samples. Use `zero_division` parameter to control this behavior.\n",
      "  _warn_prf(average, modifier, msg_start, len(result))\n",
      "C:\\Users\\navee\\anaconda3\\Lib\\site-packages\\sklearn\\metrics\\_classification.py:1344: UndefinedMetricWarning: Precision and F-score are ill-defined and being set to 0.0 in labels with no predicted samples. Use `zero_division` parameter to control this behavior.\n",
      "  _warn_prf(average, modifier, msg_start, len(result))\n",
      "C:\\Users\\navee\\anaconda3\\Lib\\site-packages\\sklearn\\metrics\\_classification.py:1344: UndefinedMetricWarning: Precision and F-score are ill-defined and being set to 0.0 in labels with no predicted samples. Use `zero_division` parameter to control this behavior.\n",
      "  _warn_prf(average, modifier, msg_start, len(result))\n"
     ]
    }
   ],
   "source": [
    "predictionsMLR = grid_mlr.predict(X_test)\n",
    "\n",
    "# Evaluation\n",
    "print(classification_report(y_test, predictionsMLR))"
   ]
  },
  {
   "cell_type": "code",
   "execution_count": 47,
   "metadata": {
    "id": "j28K3rE8kTYt"
   },
   "outputs": [],
   "source": [
    "best_model_mlr = grid_mlr.best_estimator_\n",
    "best_score_mlr = grid_mlr.best_score_\n",
    "best_params_mlr = grid_mlr.best_params_\n",
    "cv_results_mlr = pd.DataFrame(grid_mlr.cv_results_)"
   ]
  },
  {
   "cell_type": "code",
   "execution_count": 48,
   "metadata": {
    "colab": {
     "base_uri": "https://localhost:8080/",
     "height": 282
    },
    "id": "DP7FAcjJki7R",
    "outputId": "fa55ad8f-b489-40a7-dc8a-6afd12d83a4b"
   },
   "outputs": [
    {
     "name": "stdout",
     "output_type": "stream",
     "text": [
      "Best Model: LogisticRegression(C=1, max_iter=1500, multi_class='multinomial',\n",
      "                   random_state=42)\n",
      "Best Score: 0.83\n",
      "Best Params: {'C': 1, 'max_iter': 1500, 'penalty': 'l2'}\n",
      "CV Results\n"
     ]
    },
    {
     "data": {
      "text/html": [
       "<div>\n",
       "<style scoped>\n",
       "    .dataframe tbody tr th:only-of-type {\n",
       "        vertical-align: middle;\n",
       "    }\n",
       "\n",
       "    .dataframe tbody tr th {\n",
       "        vertical-align: top;\n",
       "    }\n",
       "\n",
       "    .dataframe thead th {\n",
       "        text-align: right;\n",
       "    }\n",
       "</style>\n",
       "<table border=\"1\" class=\"dataframe\">\n",
       "  <thead>\n",
       "    <tr style=\"text-align: right;\">\n",
       "      <th></th>\n",
       "      <th>param_C</th>\n",
       "      <th>param_penalty</th>\n",
       "      <th>mean_test_score</th>\n",
       "      <th>std_test_score</th>\n",
       "      <th>mean_train_score</th>\n",
       "      <th>std_train_score</th>\n",
       "    </tr>\n",
       "  </thead>\n",
       "  <tbody>\n",
       "    <tr>\n",
       "      <th>0</th>\n",
       "      <td>1</td>\n",
       "      <td>l2</td>\n",
       "      <td>0.830440</td>\n",
       "      <td>0.000239</td>\n",
       "      <td>0.830478</td>\n",
       "      <td>0.000040</td>\n",
       "    </tr>\n",
       "    <tr>\n",
       "      <th>1</th>\n",
       "      <td>1</td>\n",
       "      <td>l2</td>\n",
       "      <td>0.830459</td>\n",
       "      <td>0.000254</td>\n",
       "      <td>0.830490</td>\n",
       "      <td>0.000043</td>\n",
       "    </tr>\n",
       "    <tr>\n",
       "      <th>2</th>\n",
       "      <td>10</td>\n",
       "      <td>l2</td>\n",
       "      <td>0.830440</td>\n",
       "      <td>0.000286</td>\n",
       "      <td>0.830499</td>\n",
       "      <td>0.000050</td>\n",
       "    </tr>\n",
       "    <tr>\n",
       "      <th>3</th>\n",
       "      <td>10</td>\n",
       "      <td>l2</td>\n",
       "      <td>0.830434</td>\n",
       "      <td>0.000222</td>\n",
       "      <td>0.830499</td>\n",
       "      <td>0.000056</td>\n",
       "    </tr>\n",
       "  </tbody>\n",
       "</table>\n",
       "</div>"
      ],
      "text/plain": [
       "  param_C param_penalty  mean_test_score  std_test_score  mean_train_score  \\\n",
       "0       1            l2         0.830440        0.000239          0.830478   \n",
       "1       1            l2         0.830459        0.000254          0.830490   \n",
       "2      10            l2         0.830440        0.000286          0.830499   \n",
       "3      10            l2         0.830434        0.000222          0.830499   \n",
       "\n",
       "   std_train_score  \n",
       "0         0.000040  \n",
       "1         0.000043  \n",
       "2         0.000050  \n",
       "3         0.000056  "
      ]
     },
     "metadata": {},
     "output_type": "display_data"
    },
    {
     "data": {
      "text/plain": [
       "None"
      ]
     },
     "metadata": {},
     "output_type": "display_data"
    }
   ],
   "source": [
    "print('Best Model:', best_model_mlr)\n",
    "print('Best Score:', round(best_score_mlr,3))\n",
    "print('Best Params:', best_params_mlr)\n",
    "print('CV Results')\n",
    "display(display(cv_results_mlr[['param_C', 'param_penalty', 'mean_test_score', 'std_test_score', 'mean_train_score', 'std_train_score']]))"
   ]
  },
  {
   "cell_type": "markdown",
   "metadata": {
    "id": "OKW3QnGerQpY"
   },
   "source": [
    "### Support Vector Machine (SVM)\n"
   ]
  },
  {
   "cell_type": "code",
   "execution_count": null,
   "metadata": {
    "id": "VWAY7evvrW0D"
   },
   "outputs": [],
   "source": [
    "from sklearn.svm import SVC\n",
    "\n",
    "#loading the classification\n",
    "svc = SVC(random_state=42)\n",
    "\n",
    "# Using grid search to tune for the best parameters\n",
    "parameters_grid_svm = {\n",
    "    'C': [1, 10],  # Tuning best regularization parameter\n",
    "    'kernel': ['rbf', 'poly']  # Kernel to be used. Using kernels as they might capture non linear relation if it exists\n",
    "}\n",
    "\n",
    "# Performing grid search and cross validating it 3 times.\n",
    "grid_search_svm = GridSearchCV(svc, parameters_grid_svm, cv=3, return_train_score=True)\n",
    "\n",
    "#Training the model\n",
    "grid_search_svm.fit(X_train, y_train)"
   ]
  },
  {
   "cell_type": "code",
   "execution_count": null,
   "metadata": {
    "id": "n7A9wd6nsSde"
   },
   "outputs": [],
   "source": []
  },
  {
   "cell_type": "markdown",
   "metadata": {
    "id": "-JEcfVwZa1Tc"
   },
   "source": [
    "### Random Forest Classifier\n",
    "Best Model : RandomForestClassifier(max_depth=20, n_estimators=200, random_state=42)\n",
    "\n",
    "Best Score : 0.868\n",
    "\n",
    "The classification report provides key metrics for each class (0, 1, 2) in the model:\n",
    "\n",
    "Class 0: Shows high precision, recall, and F1-score, indicating that the model performs well in identifying and predicting non-diabetic outcomes.\n",
    "Class 1: Has extremely low precision, recall, and F1-score, suggesting that the model struggles significantly with predicting pre-diabetic outcomes accurately.\n",
    "Class 2: Has moderate precision and recall, but these metrics are not as high as for Class 0, indicating some challenges in predicting diabetic outcomes but still reasonably effective compared to Class 1.\n",
    "The model is biased towards predicting non-diabetic outcomes (Class 0) much more effectively than pre-diabetic or diabetic outcomes. The very poor performance on Class 1 could be due to underrepresentation in the dataset, or the features not being indicative enough for this class, or both.\n",
    "\n",
    "Lower max_depth can lead to higher bias as the model is potentially too simple to capture the underlying patterns in the data. THe results suggest that a max_depth of 10 might be too simplistic as performance improves significantly with max_depth of 20. Higher max_depth can increase model complexity, which might lead to overfitting. However, the standard deviation of test scores (indicative of variability in model performance across different folds) does not increase substantially with higher max_depth, suggesting that the model does not suffer excessively from high variance, at least within the range tested.\n",
    "\n",
    "The Random Forest model demonstrated robust performance with strong precision in predicting non-diabetic cases but struggled with lower accuracy in predicting pre-diabetic and diabetic cases.\n",
    "  "
   ]
  },
  {
   "cell_type": "markdown",
   "metadata": {
    "id": "tRu6eB61bN4E"
   },
   "source": [
    "### KNN Classifier\n",
    "Best Model: KNeighborsClassifier(n_neighbors=3, weights='distance')\n",
    "\n",
    "Best Score: 0.877\n",
    "\n",
    "\n",
    "The classification report provides the following metrics for each class:\n",
    "\n",
    "Class 0 (Non-diabetic):\n",
    "\n",
    "Precision: High at 0.89, indicating that the model is very good at not labeling non-diabetic cases as diabetic or pre-diabetic.\n",
    "Recall: Also relatively high at 0.80, showing that it successfully identifies a good portion of actual non-diabetic cases.\n",
    "F1-Score: An F1-score of 0.84 reflects a good balance between precision and recall for this class.\n",
    "\n",
    "Class 1 (Pre-diabetic):\n",
    "\n",
    "Precision: Very low at 0.03, suggesting the model rarely identifies pre-diabetic cases correctly.\n",
    "Recall: Also very low at 0.07, meaning it misses many actual pre-diabetic cases.\n",
    "F1-Score: At 0.04, the F1-score is extremely low, indicating poor performance for this class.\n",
    "\n",
    "\n",
    "Class 2 (Diabetic):\n",
    "\n",
    "Precision: Moderate at 0.29, indicating the model has some capability to correctly identify diabetic cases but also makes several false positives.\n",
    "Recall: At 0.41, it captures less than half of the actual diabetic cases.\n",
    "F1-Score: The score of 0.34 suggests modest effectiveness for this class but indicates room for improvement.\n",
    "Overall Accuracy: The overall accuracy is 0.73, which might seem reasonable but is heavily biased towards the majority class (Class 0).\n",
    "\n",
    "There is a clear indication of bias towards the majority class (Class 0). The model performs well in identifying non-diabetic cases but struggles significantly with pre-diabetic cases, suggesting underfitting for minority classes. The relatively low standard deviation in test scores between different configurations suggests that the model isn't experiencing high variance.\n",
    "\n",
    "The KNN classifier showed good performance for the non-diabetic class but significantly underperformed for pre-diabetic and diabetic classes, indicating difficulties in handling class imbalances."
   ]
  },
  {
   "cell_type": "markdown",
   "metadata": {
    "id": "nTM9Z3OYbOkA"
   },
   "source": [
    "### Multinomial Logistic Regression\n",
    "Best Model:LogisticRegression(C=1, max_iter=1000, multi_class='multinomial',\n",
    "                   random_state=42)\n",
    "\n",
    "Best Score: 0.522\n",
    "\n",
    "\n",
    "Class 0 (Non-diabetic):\n",
    "\n",
    "Precision: High (0.95), indicating a strong accuracy in predicting non-diabetic outcomes when the model does predict this class.\n",
    "Recall: Moderate (0.64), suggesting that the model misses a significant number of true non-diabetic cases.\n",
    "F1-Score: Fairly high (0.76), showing a decent balance between precision and recall for this class.\n",
    "\n",
    "Class 1 (Pre-diabetic):\n",
    "\n",
    "Precision: Extremely low (0.03), meaning the model rarely predicts this class correctly.\n",
    "Recall: Low (0.30), indicating the model misses many pre-diabetic cases.\n",
    "F1-Score: Very poor (0.05), reflecting the model's ineffective performance for this class.\n",
    "\n",
    "Class 2 (Diabetic):\n",
    "\n",
    "Precision: Low (0.34), suggesting many false positives (non-diabetic or pre-diabetic cases wrongly identified as diabetic).\n",
    "Recall: Moderate (0.57), meaning the model captures over half of the actual diabetic cases but still misses a considerable number.\n",
    "F1-Score: Moderate (0.42), indicating a need for improvement in balancing precision and recall for this class.\n",
    "\n",
    "The model shows a high bias towards Class 0, which it predicts quite well compared to the other classes. This could be indicative of a model that isn't complex enough to capture the nuances of Classes 1 and 2, possibly due to a lack of relevant features or insufficient representation of these classes in the training data. The model has low variance, as indicated by the small standard deviations in cross-validation scores, suggesting that changes in the training dataset have little effect on the outcome. This stability, while generally positive, comes at the cost of high bias — particularly toward predicting Classes 1 and 2 inadequately.\n",
    "\n",
    "While the model performs consistently, it does so at a generally low level of accuracy, with significant room for improvement in its application for predicting diabetic outcomes. Addressing its high bias while maintaining low variance is crucial for enhancing its effectiveness in a healthcare setting. The MLR model consistently underperformed across all classes, particularly struggling with pre-diabetic classifications, indicating a high bias toward the majority class.\n"
   ]
  },
  {
   "cell_type": "markdown",
   "metadata": {
    "id": "wrTlVElsbOrj"
   },
   "source": [
    " Since this is a classification problem, the metrics used are accuracy, precision, recall and f1-score. In the specific case of healthcare, recall is preferred over other metrics. Recall measures the proportion of actual positives that are correctly identified. In many healthcare scenarios, especially those involving the diagnosis of serious conditions, a high recall is crucial because the cost of missing a true positive (failing to identify a disease) can be very high, potentially life-threatening.  Additionally, even in cases where the disease prediction might be incorrect, a physician's assessment will ultimately confirm the presence or absence of diabetes, providing a secondary check."
   ]
  },
  {
   "cell_type": "markdown",
   "metadata": {
    "id": "rWxq-ZYxbPWi"
   },
   "source": []
  },
  {
   "cell_type": "markdown",
   "metadata": {
    "id": "I2_rJ_wEx9YF"
   },
   "source": [
    "#### Observation:\n",
    "Patients, especially those at risk of diabetes, stand to benefit directly as they can receive earlier and more targeted interventions, potentially preventing the progression of the disease. Healthcare providers, including clinicians and hospitals, will benefit from more accurate diagnostic tools, aiding in better patient management and optimized treatment plans. Additionally, healthcare systems will experience improved resource allocation and reduced costs by preventing severe complications through early treatment."
   ]
  },
  {
   "cell_type": "markdown",
   "metadata": {
    "id": "7jl-wd4sy9fZ"
   },
   "source": [
    "The models showed a tendency to perform well in predicting the majority class (non-diabetic) but struggled significantly with the minority classes (pre-diabetic and diabetic). This imbalance can lead to a model that is biased towards the majority class, potentially neglecting or misclassifying the more critical minority cases which require accurate identification for effective treatment and intervention."
   ]
  },
  {
   "cell_type": "code",
   "execution_count": null,
   "metadata": {
    "colab": {
     "base_uri": "https://localhost:8080/",
     "height": 564
    },
    "id": "d4YlC-i0bU6A",
    "outputId": "183bbf70-2ead-42ef-d777-f0c296a1e7c2"
   },
   "outputs": [],
   "source": [
    "\n",
    "plt.figure(figsize=(10, 6))\n",
    "sns.countplot(x='Diabetes_012', hue='Sex', data=df)\n",
    "plt.title('Distribution of Diabetic Outcomes by Sex')\n",
    "plt.xlabel('Diabetic Status')\n",
    "plt.ylabel('Count')\n",
    "plt.legend(title='Sex', labels=['Female', 'Male'])\n",
    "plt.show()"
   ]
  },
  {
   "cell_type": "markdown",
   "metadata": {
    "id": "jHkQZFQS0feC"
   },
   "source": [
    "From the above plot, we can see that the number of females is slightly more than males. While there is a notable difference in the counts, the disproportion does not appear to be extreme. However, this imbalance could still introduce a slight bias in the model's ability to learn and predict diabetic outcomes equitably for both sexes."
   ]
  },
  {
   "cell_type": "code",
   "execution_count": null,
   "metadata": {
    "colab": {
     "base_uri": "https://localhost:8080/",
     "height": 564
    },
    "id": "8WUZqn-QhDNG",
    "outputId": "d7a566b1-f644-4d70-e3ae-06b9198f3ea7"
   },
   "outputs": [],
   "source": [
    "plt.figure(figsize=(10, 6))\n",
    "sns.countplot(x='Diabetes_012', hue='Age', data=data)\n",
    "plt.title('Distribution of Diabetic Outcomes by Age Group')\n",
    "plt.xlabel('Diabetic Status')\n",
    "plt.ylabel('Count')\n",
    "plt.legend(title='Age Group')\n",
    "plt.show()"
   ]
  },
  {
   "cell_type": "markdown",
   "metadata": {
    "id": "HV-4ZBXk1E_H"
   },
   "source": [
    "The second chart displays a clear trend of diabetic status across various age groups, with higher ages showing a significant increase in diabetic (2) outcomes. The representation across age groups is more balanced in the non-diabetic (0) status but shows variability in the pre-diabetic (1) and diabetic (2) statuses. This variability might suggest a bias where the model becomes better at predicting outcomes for age groups that are more heavily represented in the non-diabetic category, potentially skewing predictions for younger or older age groups that deviate from the majority. While there is a certain degree of imbalance in the dataset with respect to both sex and age group distributions, the bias introduced by these factors may not be substantial but should not be overlooked."
   ]
  },
  {
   "cell_type": "markdown",
   "metadata": {
    "id": "SxAkkAWO201F"
   },
   "source": [
    "Adjusting class weights, SMOTE are some common techniques to address the class imbalance issue."
   ]
  },
  {
   "cell_type": "code",
   "execution_count": null,
   "metadata": {
    "id": "ZPeku7p4hJA7"
   },
   "outputs": [],
   "source": []
  }
 ],
 "metadata": {
  "accelerator": "GPU",
  "colab": {
   "gpuType": "T4",
   "provenance": []
  },
  "kernelspec": {
   "display_name": "Python 3 (ipykernel)",
   "language": "python",
   "name": "python3"
  },
  "language_info": {
   "codemirror_mode": {
    "name": "ipython",
    "version": 3
   },
   "file_extension": ".py",
   "mimetype": "text/x-python",
   "name": "python",
   "nbconvert_exporter": "python",
   "pygments_lexer": "ipython3",
   "version": "3.11.7"
  }
 },
 "nbformat": 4,
 "nbformat_minor": 4
}
